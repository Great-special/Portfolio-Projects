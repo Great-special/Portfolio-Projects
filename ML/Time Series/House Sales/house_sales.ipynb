{
 "cells": [
  {
   "cell_type": "markdown",
   "metadata": {},
   "source": [
    "### **House Sales Time Series**"
   ]
  },
  {
   "cell_type": "markdown",
   "metadata": {},
   "source": [
    "### Importing Lib's"
   ]
  },
  {
   "cell_type": "code",
   "execution_count": 191,
   "metadata": {},
   "outputs": [],
   "source": [
    "import numpy as np\n",
    "import pandas as pd\n",
    "import matplotlib.pyplot as plt\n",
    "import seaborn as sns\n",
    "from statsmodels.tsa.stattools import adfuller"
   ]
  },
  {
   "cell_type": "markdown",
   "metadata": {},
   "source": [
    "### Loading Data"
   ]
  },
  {
   "cell_type": "code",
   "execution_count": 192,
   "metadata": {},
   "outputs": [
    {
     "data": {
      "text/html": [
       "<div>\n",
       "<style scoped>\n",
       "    .dataframe tbody tr th:only-of-type {\n",
       "        vertical-align: middle;\n",
       "    }\n",
       "\n",
       "    .dataframe tbody tr th {\n",
       "        vertical-align: top;\n",
       "    }\n",
       "\n",
       "    .dataframe thead th {\n",
       "        text-align: right;\n",
       "    }\n",
       "</style>\n",
       "<table border=\"1\" class=\"dataframe\">\n",
       "  <thead>\n",
       "    <tr style=\"text-align: right;\">\n",
       "      <th></th>\n",
       "      <th>datesold</th>\n",
       "      <th>postcode</th>\n",
       "      <th>price</th>\n",
       "      <th>propertyType</th>\n",
       "      <th>bedrooms</th>\n",
       "    </tr>\n",
       "  </thead>\n",
       "  <tbody>\n",
       "    <tr>\n",
       "      <th>0</th>\n",
       "      <td>2007-02-07 00:00:00</td>\n",
       "      <td>2607</td>\n",
       "      <td>525000</td>\n",
       "      <td>house</td>\n",
       "      <td>4</td>\n",
       "    </tr>\n",
       "    <tr>\n",
       "      <th>1</th>\n",
       "      <td>2007-02-27 00:00:00</td>\n",
       "      <td>2906</td>\n",
       "      <td>290000</td>\n",
       "      <td>house</td>\n",
       "      <td>3</td>\n",
       "    </tr>\n",
       "    <tr>\n",
       "      <th>2</th>\n",
       "      <td>2007-03-07 00:00:00</td>\n",
       "      <td>2905</td>\n",
       "      <td>328000</td>\n",
       "      <td>house</td>\n",
       "      <td>3</td>\n",
       "    </tr>\n",
       "    <tr>\n",
       "      <th>3</th>\n",
       "      <td>2007-03-09 00:00:00</td>\n",
       "      <td>2905</td>\n",
       "      <td>380000</td>\n",
       "      <td>house</td>\n",
       "      <td>4</td>\n",
       "    </tr>\n",
       "    <tr>\n",
       "      <th>4</th>\n",
       "      <td>2007-03-21 00:00:00</td>\n",
       "      <td>2906</td>\n",
       "      <td>310000</td>\n",
       "      <td>house</td>\n",
       "      <td>3</td>\n",
       "    </tr>\n",
       "  </tbody>\n",
       "</table>\n",
       "</div>"
      ],
      "text/plain": [
       "              datesold  postcode   price propertyType  bedrooms\n",
       "0  2007-02-07 00:00:00      2607  525000        house         4\n",
       "1  2007-02-27 00:00:00      2906  290000        house         3\n",
       "2  2007-03-07 00:00:00      2905  328000        house         3\n",
       "3  2007-03-09 00:00:00      2905  380000        house         4\n",
       "4  2007-03-21 00:00:00      2906  310000        house         3"
      ]
     },
     "execution_count": 192,
     "metadata": {},
     "output_type": "execute_result"
    }
   ],
   "source": [
    "data = pd.read_csv(\"raw_sales.csv\")\n",
    "data.head()"
   ]
  },
  {
   "cell_type": "code",
   "execution_count": 193,
   "metadata": {},
   "outputs": [
    {
     "data": {
      "text/plain": [
       "(29580, 5)"
      ]
     },
     "execution_count": 193,
     "metadata": {},
     "output_type": "execute_result"
    }
   ],
   "source": [
    "data.shape"
   ]
  },
  {
   "cell_type": "code",
   "execution_count": 194,
   "metadata": {},
   "outputs": [
    {
     "name": "stdout",
     "output_type": "stream",
     "text": [
      "<class 'pandas.core.frame.DataFrame'>\n",
      "RangeIndex: 29580 entries, 0 to 29579\n",
      "Data columns (total 5 columns):\n",
      " #   Column        Non-Null Count  Dtype \n",
      "---  ------        --------------  ----- \n",
      " 0   datesold      29580 non-null  object\n",
      " 1   postcode      29580 non-null  int64 \n",
      " 2   price         29580 non-null  int64 \n",
      " 3   propertyType  29580 non-null  object\n",
      " 4   bedrooms      29580 non-null  int64 \n",
      "dtypes: int64(3), object(2)\n",
      "memory usage: 1.1+ MB\n"
     ]
    }
   ],
   "source": [
    "data.info()"
   ]
  },
  {
   "cell_type": "markdown",
   "metadata": {},
   "source": [
    "#### Converting to the right data type"
   ]
  },
  {
   "cell_type": "code",
   "execution_count": 195,
   "metadata": {},
   "outputs": [],
   "source": [
    "data['datesold'] = pd.to_datetime(data['datesold'])"
   ]
  },
  {
   "cell_type": "code",
   "execution_count": 196,
   "metadata": {},
   "outputs": [
    {
     "name": "stdout",
     "output_type": "stream",
     "text": [
      "<class 'pandas.core.frame.DataFrame'>\n",
      "RangeIndex: 29580 entries, 0 to 29579\n",
      "Data columns (total 5 columns):\n",
      " #   Column        Non-Null Count  Dtype         \n",
      "---  ------        --------------  -----         \n",
      " 0   datesold      29580 non-null  datetime64[ns]\n",
      " 1   postcode      29580 non-null  int64         \n",
      " 2   price         29580 non-null  int64         \n",
      " 3   propertyType  29580 non-null  object        \n",
      " 4   bedrooms      29580 non-null  int64         \n",
      "dtypes: datetime64[ns](1), int64(3), object(1)\n",
      "memory usage: 1.1+ MB\n"
     ]
    }
   ],
   "source": [
    "data.info()"
   ]
  },
  {
   "cell_type": "markdown",
   "metadata": {},
   "source": [
    "#### Performing EDA"
   ]
  },
  {
   "cell_type": "code",
   "execution_count": 197,
   "metadata": {},
   "outputs": [
    {
     "data": {
      "text/plain": [
       "array(['house', 'unit'], dtype=object)"
      ]
     },
     "execution_count": 197,
     "metadata": {},
     "output_type": "execute_result"
    }
   ],
   "source": [
    "data[\"propertyType\"].unique()"
   ]
  },
  {
   "cell_type": "code",
   "execution_count": 198,
   "metadata": {},
   "outputs": [
    {
     "data": {
      "text/plain": [
       "array([2607, 2906, 2905, 2606, 2902, 2612, 2904, 2615, 2914, 2602, 2600,\n",
       "       2605, 2603, 2611, 2903, 2617, 2913, 2604, 2614, 2912, 2601, 2900,\n",
       "       2620, 2618, 2616, 2911, 2609], dtype=int64)"
      ]
     },
     "execution_count": 198,
     "metadata": {},
     "output_type": "execute_result"
    }
   ],
   "source": [
    "data[\"postcode\"].unique()"
   ]
  },
  {
   "cell_type": "code",
   "execution_count": 199,
   "metadata": {},
   "outputs": [
    {
     "data": {
      "text/plain": [
       "0"
      ]
     },
     "execution_count": 199,
     "metadata": {},
     "output_type": "execute_result"
    }
   ],
   "source": [
    "data.duplicated().sum()"
   ]
  },
  {
   "cell_type": "markdown",
   "metadata": {},
   "source": [
    "#### Setting Data As The Index For Plotting "
   ]
  },
  {
   "cell_type": "code",
   "execution_count": 200,
   "metadata": {},
   "outputs": [
    {
     "data": {
      "text/html": [
       "<div>\n",
       "<style scoped>\n",
       "    .dataframe tbody tr th:only-of-type {\n",
       "        vertical-align: middle;\n",
       "    }\n",
       "\n",
       "    .dataframe tbody tr th {\n",
       "        vertical-align: top;\n",
       "    }\n",
       "\n",
       "    .dataframe thead th {\n",
       "        text-align: right;\n",
       "    }\n",
       "</style>\n",
       "<table border=\"1\" class=\"dataframe\">\n",
       "  <thead>\n",
       "    <tr style=\"text-align: right;\">\n",
       "      <th></th>\n",
       "      <th>postcode</th>\n",
       "      <th>price</th>\n",
       "      <th>propertyType</th>\n",
       "      <th>bedrooms</th>\n",
       "    </tr>\n",
       "    <tr>\n",
       "      <th>datesold</th>\n",
       "      <th></th>\n",
       "      <th></th>\n",
       "      <th></th>\n",
       "      <th></th>\n",
       "    </tr>\n",
       "  </thead>\n",
       "  <tbody>\n",
       "    <tr>\n",
       "      <th>2007-02-07</th>\n",
       "      <td>2607</td>\n",
       "      <td>525000</td>\n",
       "      <td>house</td>\n",
       "      <td>4</td>\n",
       "    </tr>\n",
       "    <tr>\n",
       "      <th>2007-02-27</th>\n",
       "      <td>2906</td>\n",
       "      <td>290000</td>\n",
       "      <td>house</td>\n",
       "      <td>3</td>\n",
       "    </tr>\n",
       "    <tr>\n",
       "      <th>2007-03-07</th>\n",
       "      <td>2905</td>\n",
       "      <td>328000</td>\n",
       "      <td>house</td>\n",
       "      <td>3</td>\n",
       "    </tr>\n",
       "    <tr>\n",
       "      <th>2007-03-09</th>\n",
       "      <td>2905</td>\n",
       "      <td>380000</td>\n",
       "      <td>house</td>\n",
       "      <td>4</td>\n",
       "    </tr>\n",
       "    <tr>\n",
       "      <th>2007-03-21</th>\n",
       "      <td>2906</td>\n",
       "      <td>310000</td>\n",
       "      <td>house</td>\n",
       "      <td>3</td>\n",
       "    </tr>\n",
       "    <tr>\n",
       "      <th>2007-04-04</th>\n",
       "      <td>2905</td>\n",
       "      <td>465000</td>\n",
       "      <td>house</td>\n",
       "      <td>4</td>\n",
       "    </tr>\n",
       "    <tr>\n",
       "      <th>2007-04-24</th>\n",
       "      <td>2607</td>\n",
       "      <td>399000</td>\n",
       "      <td>house</td>\n",
       "      <td>3</td>\n",
       "    </tr>\n",
       "    <tr>\n",
       "      <th>2007-04-30</th>\n",
       "      <td>2606</td>\n",
       "      <td>1530000</td>\n",
       "      <td>house</td>\n",
       "      <td>4</td>\n",
       "    </tr>\n",
       "    <tr>\n",
       "      <th>2007-05-24</th>\n",
       "      <td>2902</td>\n",
       "      <td>359000</td>\n",
       "      <td>house</td>\n",
       "      <td>3</td>\n",
       "    </tr>\n",
       "    <tr>\n",
       "      <th>2007-05-25</th>\n",
       "      <td>2906</td>\n",
       "      <td>320000</td>\n",
       "      <td>house</td>\n",
       "      <td>3</td>\n",
       "    </tr>\n",
       "  </tbody>\n",
       "</table>\n",
       "</div>"
      ],
      "text/plain": [
       "            postcode    price propertyType  bedrooms\n",
       "datesold                                            \n",
       "2007-02-07      2607   525000        house         4\n",
       "2007-02-27      2906   290000        house         3\n",
       "2007-03-07      2905   328000        house         3\n",
       "2007-03-09      2905   380000        house         4\n",
       "2007-03-21      2906   310000        house         3\n",
       "2007-04-04      2905   465000        house         4\n",
       "2007-04-24      2607   399000        house         3\n",
       "2007-04-30      2606  1530000        house         4\n",
       "2007-05-24      2902   359000        house         3\n",
       "2007-05-25      2906   320000        house         3"
      ]
     },
     "execution_count": 200,
     "metadata": {},
     "output_type": "execute_result"
    }
   ],
   "source": [
    "data_indexed = data.set_index(\"datesold\")\n",
    "data_indexed.head(10)"
   ]
  },
  {
   "cell_type": "code",
   "execution_count": 201,
   "metadata": {},
   "outputs": [],
   "source": [
    "# Visualize the data\n",
    "# plt.figure(figsize=(10, 6))\n",
    "# sns.lineplot(x=data_indexed.index, y=data_indexed['price'])\n",
    "# plt.title('House Price Over Time')\n",
    "# plt.xlabel('Date')\n",
    "# plt.ylabel('Price')\n",
    "# plt.show()"
   ]
  },
  {
   "cell_type": "code",
   "execution_count": 202,
   "metadata": {},
   "outputs": [
    {
     "data": {
      "text/plain": [
       "(29580, 4)"
      ]
     },
     "execution_count": 202,
     "metadata": {},
     "output_type": "execute_result"
    }
   ],
   "source": [
    "data_indexed.shape"
   ]
  },
  {
   "cell_type": "code",
   "execution_count": 203,
   "metadata": {},
   "outputs": [],
   "source": [
    "import prophet as pt"
   ]
  },
  {
   "cell_type": "markdown",
   "metadata": {},
   "source": [
    "#### Preparing For Prophet Model"
   ]
  },
  {
   "cell_type": "code",
   "execution_count": 204,
   "metadata": {},
   "outputs": [
    {
     "data": {
      "text/html": [
       "<div>\n",
       "<style scoped>\n",
       "    .dataframe tbody tr th:only-of-type {\n",
       "        vertical-align: middle;\n",
       "    }\n",
       "\n",
       "    .dataframe tbody tr th {\n",
       "        vertical-align: top;\n",
       "    }\n",
       "\n",
       "    .dataframe thead th {\n",
       "        text-align: right;\n",
       "    }\n",
       "</style>\n",
       "<table border=\"1\" class=\"dataframe\">\n",
       "  <thead>\n",
       "    <tr style=\"text-align: right;\">\n",
       "      <th></th>\n",
       "      <th>datesold</th>\n",
       "      <th>price</th>\n",
       "    </tr>\n",
       "  </thead>\n",
       "  <tbody>\n",
       "    <tr>\n",
       "      <th>0</th>\n",
       "      <td>2007-02-07</td>\n",
       "      <td>525000</td>\n",
       "    </tr>\n",
       "    <tr>\n",
       "      <th>1</th>\n",
       "      <td>2007-02-27</td>\n",
       "      <td>290000</td>\n",
       "    </tr>\n",
       "    <tr>\n",
       "      <th>2</th>\n",
       "      <td>2007-03-07</td>\n",
       "      <td>328000</td>\n",
       "    </tr>\n",
       "    <tr>\n",
       "      <th>3</th>\n",
       "      <td>2007-03-09</td>\n",
       "      <td>380000</td>\n",
       "    </tr>\n",
       "    <tr>\n",
       "      <th>4</th>\n",
       "      <td>2007-03-21</td>\n",
       "      <td>310000</td>\n",
       "    </tr>\n",
       "    <tr>\n",
       "      <th>...</th>\n",
       "      <td>...</td>\n",
       "      <td>...</td>\n",
       "    </tr>\n",
       "    <tr>\n",
       "      <th>29575</th>\n",
       "      <td>2019-07-25</td>\n",
       "      <td>500000</td>\n",
       "    </tr>\n",
       "    <tr>\n",
       "      <th>29576</th>\n",
       "      <td>2019-07-25</td>\n",
       "      <td>560000</td>\n",
       "    </tr>\n",
       "    <tr>\n",
       "      <th>29577</th>\n",
       "      <td>2019-07-26</td>\n",
       "      <td>464950</td>\n",
       "    </tr>\n",
       "    <tr>\n",
       "      <th>29578</th>\n",
       "      <td>2019-07-26</td>\n",
       "      <td>589000</td>\n",
       "    </tr>\n",
       "    <tr>\n",
       "      <th>29579</th>\n",
       "      <td>2019-07-26</td>\n",
       "      <td>775000</td>\n",
       "    </tr>\n",
       "  </tbody>\n",
       "</table>\n",
       "<p>29580 rows × 2 columns</p>\n",
       "</div>"
      ],
      "text/plain": [
       "        datesold   price\n",
       "0     2007-02-07  525000\n",
       "1     2007-02-27  290000\n",
       "2     2007-03-07  328000\n",
       "3     2007-03-09  380000\n",
       "4     2007-03-21  310000\n",
       "...          ...     ...\n",
       "29575 2019-07-25  500000\n",
       "29576 2019-07-25  560000\n",
       "29577 2019-07-26  464950\n",
       "29578 2019-07-26  589000\n",
       "29579 2019-07-26  775000\n",
       "\n",
       "[29580 rows x 2 columns]"
      ]
     },
     "execution_count": 204,
     "metadata": {},
     "output_type": "execute_result"
    }
   ],
   "source": [
    "data[[\"datesold\", \"price\"]]"
   ]
  },
  {
   "cell_type": "code",
   "execution_count": 205,
   "metadata": {},
   "outputs": [
    {
     "data": {
      "text/html": [
       "<div>\n",
       "<style scoped>\n",
       "    .dataframe tbody tr th:only-of-type {\n",
       "        vertical-align: middle;\n",
       "    }\n",
       "\n",
       "    .dataframe tbody tr th {\n",
       "        vertical-align: top;\n",
       "    }\n",
       "\n",
       "    .dataframe thead th {\n",
       "        text-align: right;\n",
       "    }\n",
       "</style>\n",
       "<table border=\"1\" class=\"dataframe\">\n",
       "  <thead>\n",
       "    <tr style=\"text-align: right;\">\n",
       "      <th></th>\n",
       "      <th>ds</th>\n",
       "      <th>y</th>\n",
       "    </tr>\n",
       "  </thead>\n",
       "  <tbody>\n",
       "    <tr>\n",
       "      <th>0</th>\n",
       "      <td>2007-02-07</td>\n",
       "      <td>525000</td>\n",
       "    </tr>\n",
       "    <tr>\n",
       "      <th>1</th>\n",
       "      <td>2007-02-27</td>\n",
       "      <td>290000</td>\n",
       "    </tr>\n",
       "    <tr>\n",
       "      <th>2</th>\n",
       "      <td>2007-03-07</td>\n",
       "      <td>328000</td>\n",
       "    </tr>\n",
       "    <tr>\n",
       "      <th>3</th>\n",
       "      <td>2007-03-09</td>\n",
       "      <td>380000</td>\n",
       "    </tr>\n",
       "    <tr>\n",
       "      <th>4</th>\n",
       "      <td>2007-03-21</td>\n",
       "      <td>310000</td>\n",
       "    </tr>\n",
       "  </tbody>\n",
       "</table>\n",
       "</div>"
      ],
      "text/plain": [
       "          ds       y\n",
       "0 2007-02-07  525000\n",
       "1 2007-02-27  290000\n",
       "2 2007-03-07  328000\n",
       "3 2007-03-09  380000\n",
       "4 2007-03-21  310000"
      ]
     },
     "execution_count": 205,
     "metadata": {},
     "output_type": "execute_result"
    }
   ],
   "source": [
    "prop_data = pd.DataFrame(data=data[[\"datesold\", \"price\"]])\n",
    "prop_data.rename(columns={'datesold':'ds', 'price':'y'}, inplace=True)\n",
    "prop_data.head()"
   ]
  },
  {
   "cell_type": "code",
   "execution_count": 206,
   "metadata": {},
   "outputs": [
    {
     "name": "stdout",
     "output_type": "stream",
     "text": [
      "<class 'pandas.core.frame.DataFrame'>\n",
      "RangeIndex: 29580 entries, 0 to 29579\n",
      "Data columns (total 2 columns):\n",
      " #   Column  Non-Null Count  Dtype         \n",
      "---  ------  --------------  -----         \n",
      " 0   ds      29580 non-null  datetime64[ns]\n",
      " 1   y       29580 non-null  int64         \n",
      "dtypes: datetime64[ns](1), int64(1)\n",
      "memory usage: 462.3 KB\n"
     ]
    }
   ],
   "source": [
    "prop_data.info()"
   ]
  },
  {
   "cell_type": "markdown",
   "metadata": {},
   "source": [
    "### Resampling and Interpolating the data to make it consistent"
   ]
  },
  {
   "cell_type": "code",
   "execution_count": 207,
   "metadata": {},
   "outputs": [],
   "source": [
    "# Set the date column as index\n",
    "prop_data.set_index('ds', inplace=True)\n",
    "\n",
    "# Resample to hourly frequency\n",
    "df_resampled = prop_data.resample('D').mean()\n",
    "\n",
    "df_interpolated = df_resampled.interpolate(method='time')\n"
   ]
  },
  {
   "cell_type": "code",
   "execution_count": 208,
   "metadata": {},
   "outputs": [],
   "source": [
    "df_prophet = df_interpolated.reset_index()\n",
    "df_prophet.columns = ['ds', 'y']\n"
   ]
  },
  {
   "cell_type": "code",
   "execution_count": 209,
   "metadata": {},
   "outputs": [
    {
     "data": {
      "text/plain": [
       "(4554, 2)"
      ]
     },
     "execution_count": 209,
     "metadata": {},
     "output_type": "execute_result"
    }
   ],
   "source": [
    "df_prophet.shape"
   ]
  },
  {
   "cell_type": "markdown",
   "metadata": {},
   "source": [
    "Stationary Check (if p-value is lower 0.05 the data is stationary)"
   ]
  },
  {
   "cell_type": "code",
   "execution_count": 210,
   "metadata": {},
   "outputs": [
    {
     "name": "stdout",
     "output_type": "stream",
     "text": [
      "ADF Statistic: -8.414230775000636\n",
      "p-value: 2.064381514043946e-13\n"
     ]
    }
   ],
   "source": [
    "# Check for stationarity\n",
    "result = adfuller(df_prophet['y'])\n",
    "print('ADF Statistic:', result[0])\n",
    "print('p-value:', result[1])"
   ]
  },
  {
   "cell_type": "code",
   "execution_count": null,
   "metadata": {},
   "outputs": [],
   "source": []
  },
  {
   "cell_type": "code",
   "execution_count": 211,
   "metadata": {},
   "outputs": [
    {
     "name": "stdout",
     "output_type": "stream",
     "text": [
      "       index   datesold  postcode   price propertyType  bedrooms\n",
      "0          0 2007-02-07      2607  525000        house         4\n",
      "1          1 2007-02-27      2906  290000        house         3\n",
      "2          2 2007-03-07      2905  328000        house         3\n",
      "3          3 2007-03-09      2905  380000        house         4\n",
      "4          4 2007-03-21      2906  310000        house         3\n",
      "...      ...        ...       ...     ...          ...       ...\n",
      "29575  29575 2019-07-25      2900  500000         unit         3\n",
      "29576  29576 2019-07-25      2612  560000         unit         2\n",
      "29577  29577 2019-07-26      2912  464950         unit         2\n",
      "29578  29578 2019-07-26      2601  589000         unit         2\n",
      "29579  29579 2019-07-26      2612  775000         unit         2\n",
      "\n",
      "[29580 rows x 6 columns]\n"
     ]
    },
    {
     "data": {
      "text/html": [
       "<div>\n",
       "<style scoped>\n",
       "    .dataframe tbody tr th:only-of-type {\n",
       "        vertical-align: middle;\n",
       "    }\n",
       "\n",
       "    .dataframe tbody tr th {\n",
       "        vertical-align: top;\n",
       "    }\n",
       "\n",
       "    .dataframe thead th {\n",
       "        text-align: right;\n",
       "    }\n",
       "</style>\n",
       "<table border=\"1\" class=\"dataframe\">\n",
       "  <thead>\n",
       "    <tr style=\"text-align: right;\">\n",
       "      <th></th>\n",
       "      <th>main</th>\n",
       "      <th>resampled</th>\n",
       "    </tr>\n",
       "  </thead>\n",
       "  <tbody>\n",
       "    <tr>\n",
       "      <th>4544</th>\n",
       "      <td>NaT</td>\n",
       "      <td>2019-07-18</td>\n",
       "    </tr>\n",
       "    <tr>\n",
       "      <th>4545</th>\n",
       "      <td>NaT</td>\n",
       "      <td>2019-07-19</td>\n",
       "    </tr>\n",
       "    <tr>\n",
       "      <th>4546</th>\n",
       "      <td>NaT</td>\n",
       "      <td>2019-07-20</td>\n",
       "    </tr>\n",
       "    <tr>\n",
       "      <th>4547</th>\n",
       "      <td>NaT</td>\n",
       "      <td>2019-07-21</td>\n",
       "    </tr>\n",
       "    <tr>\n",
       "      <th>4548</th>\n",
       "      <td>NaT</td>\n",
       "      <td>2019-07-22</td>\n",
       "    </tr>\n",
       "    <tr>\n",
       "      <th>4549</th>\n",
       "      <td>NaT</td>\n",
       "      <td>2019-07-23</td>\n",
       "    </tr>\n",
       "    <tr>\n",
       "      <th>4550</th>\n",
       "      <td>NaT</td>\n",
       "      <td>2019-07-24</td>\n",
       "    </tr>\n",
       "    <tr>\n",
       "      <th>4551</th>\n",
       "      <td>NaT</td>\n",
       "      <td>2019-07-25</td>\n",
       "    </tr>\n",
       "    <tr>\n",
       "      <th>4552</th>\n",
       "      <td>NaT</td>\n",
       "      <td>2019-07-26</td>\n",
       "    </tr>\n",
       "    <tr>\n",
       "      <th>4553</th>\n",
       "      <td>NaT</td>\n",
       "      <td>2019-07-27</td>\n",
       "    </tr>\n",
       "    <tr>\n",
       "      <th>29570</th>\n",
       "      <td>2019-07-25</td>\n",
       "      <td>NaT</td>\n",
       "    </tr>\n",
       "    <tr>\n",
       "      <th>29571</th>\n",
       "      <td>2019-07-25</td>\n",
       "      <td>NaT</td>\n",
       "    </tr>\n",
       "    <tr>\n",
       "      <th>29572</th>\n",
       "      <td>2019-07-25</td>\n",
       "      <td>NaT</td>\n",
       "    </tr>\n",
       "    <tr>\n",
       "      <th>29573</th>\n",
       "      <td>2019-07-25</td>\n",
       "      <td>NaT</td>\n",
       "    </tr>\n",
       "    <tr>\n",
       "      <th>29574</th>\n",
       "      <td>2019-07-25</td>\n",
       "      <td>NaT</td>\n",
       "    </tr>\n",
       "    <tr>\n",
       "      <th>29575</th>\n",
       "      <td>2019-07-25</td>\n",
       "      <td>NaT</td>\n",
       "    </tr>\n",
       "    <tr>\n",
       "      <th>29576</th>\n",
       "      <td>2019-07-25</td>\n",
       "      <td>NaT</td>\n",
       "    </tr>\n",
       "    <tr>\n",
       "      <th>29577</th>\n",
       "      <td>2019-07-26</td>\n",
       "      <td>NaT</td>\n",
       "    </tr>\n",
       "    <tr>\n",
       "      <th>29578</th>\n",
       "      <td>2019-07-26</td>\n",
       "      <td>NaT</td>\n",
       "    </tr>\n",
       "    <tr>\n",
       "      <th>29579</th>\n",
       "      <td>2019-07-26</td>\n",
       "      <td>NaT</td>\n",
       "    </tr>\n",
       "  </tbody>\n",
       "</table>\n",
       "</div>"
      ],
      "text/plain": [
       "            main  resampled\n",
       "4544         NaT 2019-07-18\n",
       "4545         NaT 2019-07-19\n",
       "4546         NaT 2019-07-20\n",
       "4547         NaT 2019-07-21\n",
       "4548         NaT 2019-07-22\n",
       "4549         NaT 2019-07-23\n",
       "4550         NaT 2019-07-24\n",
       "4551         NaT 2019-07-25\n",
       "4552         NaT 2019-07-26\n",
       "4553         NaT 2019-07-27\n",
       "29570 2019-07-25        NaT\n",
       "29571 2019-07-25        NaT\n",
       "29572 2019-07-25        NaT\n",
       "29573 2019-07-25        NaT\n",
       "29574 2019-07-25        NaT\n",
       "29575 2019-07-25        NaT\n",
       "29576 2019-07-25        NaT\n",
       "29577 2019-07-26        NaT\n",
       "29578 2019-07-26        NaT\n",
       "29579 2019-07-26        NaT"
      ]
     },
     "execution_count": 211,
     "metadata": {},
     "output_type": "execute_result"
    }
   ],
   "source": [
    "tes_ = data.reset_index()\n",
    "_tes = df_prophet.reset_index()\n",
    "print(tes_)\n",
    "ck_df = pd.DataFrame({\"main\":tes_['datesold'].tail(10), \"resampled\":_tes['ds'].tail(10)})\n",
    "ck_df"
   ]
  },
  {
   "cell_type": "markdown",
   "metadata": {},
   "source": [
    "#### Splitting  the dataset"
   ]
  },
  {
   "cell_type": "code",
   "execution_count": 212,
   "metadata": {},
   "outputs": [
    {
     "name": "stdout",
     "output_type": "stream",
     "text": [
      "910\n"
     ]
    }
   ],
   "source": [
    "test_len = int(len(df_prophet) * 0.2)\n",
    "train_len = int(len(df_prophet) * 0.8)\n",
    "train = df_prophet[:train_len]\n",
    "test = df_prophet[train_len:]\n",
    "print(test_len)"
   ]
  },
  {
   "cell_type": "code",
   "execution_count": 213,
   "metadata": {},
   "outputs": [],
   "source": [
    "train = train.drop_duplicates()"
   ]
  },
  {
   "cell_type": "code",
   "execution_count": 214,
   "metadata": {},
   "outputs": [
    {
     "data": {
      "text/plain": [
       "3643"
      ]
     },
     "execution_count": 214,
     "metadata": {},
     "output_type": "execute_result"
    }
   ],
   "source": [
    "len(train)"
   ]
  },
  {
   "cell_type": "code",
   "execution_count": 215,
   "metadata": {},
   "outputs": [
    {
     "data": {
      "text/html": [
       "<div>\n",
       "<style scoped>\n",
       "    .dataframe tbody tr th:only-of-type {\n",
       "        vertical-align: middle;\n",
       "    }\n",
       "\n",
       "    .dataframe tbody tr th {\n",
       "        vertical-align: top;\n",
       "    }\n",
       "\n",
       "    .dataframe thead th {\n",
       "        text-align: right;\n",
       "    }\n",
       "</style>\n",
       "<table border=\"1\" class=\"dataframe\">\n",
       "  <thead>\n",
       "    <tr style=\"text-align: right;\">\n",
       "      <th></th>\n",
       "      <th>ds</th>\n",
       "      <th>y</th>\n",
       "    </tr>\n",
       "  </thead>\n",
       "  <tbody>\n",
       "    <tr>\n",
       "      <th>3643</th>\n",
       "      <td>2017-01-28</td>\n",
       "      <td>627375.000000</td>\n",
       "    </tr>\n",
       "    <tr>\n",
       "      <th>3644</th>\n",
       "      <td>2017-01-29</td>\n",
       "      <td>578182.500000</td>\n",
       "    </tr>\n",
       "    <tr>\n",
       "      <th>3645</th>\n",
       "      <td>2017-01-30</td>\n",
       "      <td>528990.000000</td>\n",
       "    </tr>\n",
       "    <tr>\n",
       "      <th>3646</th>\n",
       "      <td>2017-01-31</td>\n",
       "      <td>600227.272727</td>\n",
       "    </tr>\n",
       "    <tr>\n",
       "      <th>3647</th>\n",
       "      <td>2017-02-01</td>\n",
       "      <td>564529.411765</td>\n",
       "    </tr>\n",
       "    <tr>\n",
       "      <th>...</th>\n",
       "      <td>...</td>\n",
       "      <td>...</td>\n",
       "    </tr>\n",
       "    <tr>\n",
       "      <th>4549</th>\n",
       "      <td>2019-07-23</td>\n",
       "      <td>562123.333333</td>\n",
       "    </tr>\n",
       "    <tr>\n",
       "      <th>4550</th>\n",
       "      <td>2019-07-24</td>\n",
       "      <td>482500.000000</td>\n",
       "    </tr>\n",
       "    <tr>\n",
       "      <th>4551</th>\n",
       "      <td>2019-07-25</td>\n",
       "      <td>547800.000000</td>\n",
       "    </tr>\n",
       "    <tr>\n",
       "      <th>4552</th>\n",
       "      <td>2019-07-26</td>\n",
       "      <td>594408.333333</td>\n",
       "    </tr>\n",
       "    <tr>\n",
       "      <th>4553</th>\n",
       "      <td>2019-07-27</td>\n",
       "      <td>707500.000000</td>\n",
       "    </tr>\n",
       "  </tbody>\n",
       "</table>\n",
       "<p>911 rows × 2 columns</p>\n",
       "</div>"
      ],
      "text/plain": [
       "             ds              y\n",
       "3643 2017-01-28  627375.000000\n",
       "3644 2017-01-29  578182.500000\n",
       "3645 2017-01-30  528990.000000\n",
       "3646 2017-01-31  600227.272727\n",
       "3647 2017-02-01  564529.411765\n",
       "...         ...            ...\n",
       "4549 2019-07-23  562123.333333\n",
       "4550 2019-07-24  482500.000000\n",
       "4551 2019-07-25  547800.000000\n",
       "4552 2019-07-26  594408.333333\n",
       "4553 2019-07-27  707500.000000\n",
       "\n",
       "[911 rows x 2 columns]"
      ]
     },
     "execution_count": 215,
     "metadata": {},
     "output_type": "execute_result"
    }
   ],
   "source": [
    "test = test.drop_duplicates()\n",
    "test "
   ]
  },
  {
   "cell_type": "code",
   "execution_count": 216,
   "metadata": {},
   "outputs": [
    {
     "data": {
      "text/plain": [
       "911"
      ]
     },
     "execution_count": 216,
     "metadata": {},
     "output_type": "execute_result"
    }
   ],
   "source": [
    "len(test)"
   ]
  },
  {
   "cell_type": "markdown",
   "metadata": {},
   "source": [
    "#### Initialize the model"
   ]
  },
  {
   "cell_type": "code",
   "execution_count": 217,
   "metadata": {},
   "outputs": [
    {
     "name": "stderr",
     "output_type": "stream",
     "text": [
      "19:24:31 - cmdstanpy - INFO - Chain [1] start processing\n",
      "19:24:34 - cmdstanpy - INFO - Chain [1] done processing\n"
     ]
    },
    {
     "data": {
      "text/plain": [
       "<prophet.forecaster.Prophet at 0x1872ee72650>"
      ]
     },
     "execution_count": 217,
     "metadata": {},
     "output_type": "execute_result"
    }
   ],
   "source": [
    "model = pt.Prophet()\n",
    "model.fit(train)"
   ]
  },
  {
   "cell_type": "code",
   "execution_count": 218,
   "metadata": {},
   "outputs": [
    {
     "data": {
      "text/html": [
       "<div>\n",
       "<style scoped>\n",
       "    .dataframe tbody tr th:only-of-type {\n",
       "        vertical-align: middle;\n",
       "    }\n",
       "\n",
       "    .dataframe tbody tr th {\n",
       "        vertical-align: top;\n",
       "    }\n",
       "\n",
       "    .dataframe thead th {\n",
       "        text-align: right;\n",
       "    }\n",
       "</style>\n",
       "<table border=\"1\" class=\"dataframe\">\n",
       "  <thead>\n",
       "    <tr style=\"text-align: right;\">\n",
       "      <th></th>\n",
       "      <th>ds</th>\n",
       "    </tr>\n",
       "  </thead>\n",
       "  <tbody>\n",
       "    <tr>\n",
       "      <th>0</th>\n",
       "      <td>2017-01-28</td>\n",
       "    </tr>\n",
       "    <tr>\n",
       "      <th>1</th>\n",
       "      <td>2017-01-29</td>\n",
       "    </tr>\n",
       "    <tr>\n",
       "      <th>2</th>\n",
       "      <td>2017-01-30</td>\n",
       "    </tr>\n",
       "    <tr>\n",
       "      <th>3</th>\n",
       "      <td>2017-01-31</td>\n",
       "    </tr>\n",
       "    <tr>\n",
       "      <th>4</th>\n",
       "      <td>2017-02-01</td>\n",
       "    </tr>\n",
       "    <tr>\n",
       "      <th>...</th>\n",
       "      <td>...</td>\n",
       "    </tr>\n",
       "    <tr>\n",
       "      <th>906</th>\n",
       "      <td>2019-07-23</td>\n",
       "    </tr>\n",
       "    <tr>\n",
       "      <th>907</th>\n",
       "      <td>2019-07-24</td>\n",
       "    </tr>\n",
       "    <tr>\n",
       "      <th>908</th>\n",
       "      <td>2019-07-25</td>\n",
       "    </tr>\n",
       "    <tr>\n",
       "      <th>909</th>\n",
       "      <td>2019-07-26</td>\n",
       "    </tr>\n",
       "    <tr>\n",
       "      <th>910</th>\n",
       "      <td>2019-07-27</td>\n",
       "    </tr>\n",
       "  </tbody>\n",
       "</table>\n",
       "<p>911 rows × 1 columns</p>\n",
       "</div>"
      ],
      "text/plain": [
       "            ds\n",
       "0   2017-01-28\n",
       "1   2017-01-29\n",
       "2   2017-01-30\n",
       "3   2017-01-31\n",
       "4   2017-02-01\n",
       "..         ...\n",
       "906 2019-07-23\n",
       "907 2019-07-24\n",
       "908 2019-07-25\n",
       "909 2019-07-26\n",
       "910 2019-07-27\n",
       "\n",
       "[911 rows x 1 columns]"
      ]
     },
     "execution_count": 218,
     "metadata": {},
     "output_type": "execute_result"
    }
   ],
   "source": [
    "future = model.make_future_dataframe(len(test), include_history=False)\n",
    "future"
   ]
  },
  {
   "cell_type": "code",
   "execution_count": 219,
   "metadata": {},
   "outputs": [
    {
     "data": {
      "text/html": [
       "<div>\n",
       "<style scoped>\n",
       "    .dataframe tbody tr th:only-of-type {\n",
       "        vertical-align: middle;\n",
       "    }\n",
       "\n",
       "    .dataframe tbody tr th {\n",
       "        vertical-align: top;\n",
       "    }\n",
       "\n",
       "    .dataframe thead th {\n",
       "        text-align: right;\n",
       "    }\n",
       "</style>\n",
       "<table border=\"1\" class=\"dataframe\">\n",
       "  <thead>\n",
       "    <tr style=\"text-align: right;\">\n",
       "      <th></th>\n",
       "      <th>ds</th>\n",
       "      <th>yhat</th>\n",
       "      <th>yhat_lower</th>\n",
       "      <th>yhat_upper</th>\n",
       "      <th>trend</th>\n",
       "      <th>trend_lower</th>\n",
       "      <th>trend_upper</th>\n",
       "    </tr>\n",
       "  </thead>\n",
       "  <tbody>\n",
       "    <tr>\n",
       "      <th>901</th>\n",
       "      <td>2019-07-18</td>\n",
       "      <td>708743.484382</td>\n",
       "      <td>509061.052647</td>\n",
       "      <td>9.081450e+05</td>\n",
       "      <td>711943.779087</td>\n",
       "      <td>643937.445696</td>\n",
       "      <td>777931.940109</td>\n",
       "    </tr>\n",
       "    <tr>\n",
       "      <th>902</th>\n",
       "      <td>2019-07-19</td>\n",
       "      <td>721245.918604</td>\n",
       "      <td>506414.315880</td>\n",
       "      <td>9.321588e+05</td>\n",
       "      <td>712011.598027</td>\n",
       "      <td>643874.479850</td>\n",
       "      <td>778101.975992</td>\n",
       "    </tr>\n",
       "    <tr>\n",
       "      <th>903</th>\n",
       "      <td>2019-07-20</td>\n",
       "      <td>819788.245118</td>\n",
       "      <td>602417.184153</td>\n",
       "      <td>1.019698e+06</td>\n",
       "      <td>712079.416968</td>\n",
       "      <td>643811.514004</td>\n",
       "      <td>778272.011876</td>\n",
       "    </tr>\n",
       "    <tr>\n",
       "      <th>904</th>\n",
       "      <td>2019-07-21</td>\n",
       "      <td>784919.495841</td>\n",
       "      <td>577087.220896</td>\n",
       "      <td>9.902236e+05</td>\n",
       "      <td>712147.235909</td>\n",
       "      <td>643748.548158</td>\n",
       "      <td>778442.047759</td>\n",
       "    </tr>\n",
       "    <tr>\n",
       "      <th>905</th>\n",
       "      <td>2019-07-22</td>\n",
       "      <td>722758.798990</td>\n",
       "      <td>512010.145234</td>\n",
       "      <td>9.207874e+05</td>\n",
       "      <td>712215.054850</td>\n",
       "      <td>643685.582312</td>\n",
       "      <td>778612.083642</td>\n",
       "    </tr>\n",
       "    <tr>\n",
       "      <th>906</th>\n",
       "      <td>2019-07-23</td>\n",
       "      <td>712065.311081</td>\n",
       "      <td>509981.053043</td>\n",
       "      <td>9.214327e+05</td>\n",
       "      <td>712282.873791</td>\n",
       "      <td>643622.616466</td>\n",
       "      <td>778782.119525</td>\n",
       "    </tr>\n",
       "    <tr>\n",
       "      <th>907</th>\n",
       "      <td>2019-07-24</td>\n",
       "      <td>723070.503335</td>\n",
       "      <td>518082.331901</td>\n",
       "      <td>9.292284e+05</td>\n",
       "      <td>712350.692732</td>\n",
       "      <td>643559.650620</td>\n",
       "      <td>778952.155408</td>\n",
       "    </tr>\n",
       "    <tr>\n",
       "      <th>908</th>\n",
       "      <td>2019-07-25</td>\n",
       "      <td>718302.474930</td>\n",
       "      <td>509937.236766</td>\n",
       "      <td>9.151353e+05</td>\n",
       "      <td>712418.511673</td>\n",
       "      <td>643496.684774</td>\n",
       "      <td>779122.191292</td>\n",
       "    </tr>\n",
       "    <tr>\n",
       "      <th>909</th>\n",
       "      <td>2019-07-26</td>\n",
       "      <td>726453.085187</td>\n",
       "      <td>516885.266947</td>\n",
       "      <td>9.284510e+05</td>\n",
       "      <td>712486.330613</td>\n",
       "      <td>643433.718928</td>\n",
       "      <td>779302.187285</td>\n",
       "    </tr>\n",
       "    <tr>\n",
       "      <th>910</th>\n",
       "      <td>2019-07-27</td>\n",
       "      <td>820619.149720</td>\n",
       "      <td>607598.184919</td>\n",
       "      <td>1.017947e+06</td>\n",
       "      <td>712554.149554</td>\n",
       "      <td>643370.753082</td>\n",
       "      <td>779555.934449</td>\n",
       "    </tr>\n",
       "  </tbody>\n",
       "</table>\n",
       "</div>"
      ],
      "text/plain": [
       "            ds           yhat     yhat_lower    yhat_upper          trend  \\\n",
       "901 2019-07-18  708743.484382  509061.052647  9.081450e+05  711943.779087   \n",
       "902 2019-07-19  721245.918604  506414.315880  9.321588e+05  712011.598027   \n",
       "903 2019-07-20  819788.245118  602417.184153  1.019698e+06  712079.416968   \n",
       "904 2019-07-21  784919.495841  577087.220896  9.902236e+05  712147.235909   \n",
       "905 2019-07-22  722758.798990  512010.145234  9.207874e+05  712215.054850   \n",
       "906 2019-07-23  712065.311081  509981.053043  9.214327e+05  712282.873791   \n",
       "907 2019-07-24  723070.503335  518082.331901  9.292284e+05  712350.692732   \n",
       "908 2019-07-25  718302.474930  509937.236766  9.151353e+05  712418.511673   \n",
       "909 2019-07-26  726453.085187  516885.266947  9.284510e+05  712486.330613   \n",
       "910 2019-07-27  820619.149720  607598.184919  1.017947e+06  712554.149554   \n",
       "\n",
       "       trend_lower    trend_upper  \n",
       "901  643937.445696  777931.940109  \n",
       "902  643874.479850  778101.975992  \n",
       "903  643811.514004  778272.011876  \n",
       "904  643748.548158  778442.047759  \n",
       "905  643685.582312  778612.083642  \n",
       "906  643622.616466  778782.119525  \n",
       "907  643559.650620  778952.155408  \n",
       "908  643496.684774  779122.191292  \n",
       "909  643433.718928  779302.187285  \n",
       "910  643370.753082  779555.934449  "
      ]
     },
     "execution_count": 219,
     "metadata": {},
     "output_type": "execute_result"
    }
   ],
   "source": [
    "forecast = model.predict(future)\n",
    "forecast[['ds', 'yhat', 'yhat_lower',\n",
    "          'yhat_upper', 'trend',\n",
    "          'trend_lower', 'trend_upper']].tail(10)"
   ]
  },
  {
   "cell_type": "code",
   "execution_count": 220,
   "metadata": {},
   "outputs": [
    {
     "data": {
      "text/plain": [
       "Index(['ds', 'trend', 'yhat_lower', 'yhat_upper', 'trend_lower', 'trend_upper',\n",
       "       'additive_terms', 'additive_terms_lower', 'additive_terms_upper',\n",
       "       'weekly', 'weekly_lower', 'weekly_upper', 'yearly', 'yearly_lower',\n",
       "       'yearly_upper', 'multiplicative_terms', 'multiplicative_terms_lower',\n",
       "       'multiplicative_terms_upper', 'yhat'],\n",
       "      dtype='object')"
      ]
     },
     "execution_count": 220,
     "metadata": {},
     "output_type": "execute_result"
    }
   ],
   "source": [
    "forecast.columns"
   ]
  },
  {
   "cell_type": "code",
   "execution_count": 221,
   "metadata": {},
   "outputs": [
    {
     "name": "stderr",
     "output_type": "stream",
     "text": [
      "d:\\my files\\data sci\\.env\\Lib\\site-packages\\prophet\\plot.py:72: FutureWarning: The behavior of DatetimeProperties.to_pydatetime is deprecated, in a future version this will return a Series containing python datetime objects instead of an ndarray. To retain the old behavior, call `np.array` on the result\n",
      "  fcst_t = fcst['ds'].dt.to_pydatetime()\n",
      "d:\\my files\\data sci\\.env\\Lib\\site-packages\\prophet\\plot.py:73: FutureWarning: The behavior of DatetimeProperties.to_pydatetime is deprecated, in a future version this will return a Series containing python datetime objects instead of an ndarray. To retain the old behavior, call `np.array` on the result\n",
      "  ax.plot(m.history['ds'].dt.to_pydatetime(), m.history['y'], 'k.',\n"
     ]
    },
    {
     "data": {
      "image/png": "[encoded data removed]",
      "text/plain": [
       "<Figure size 1000x600 with 1 Axes>"
      ]
     },
     "metadata": {},
     "output_type": "display_data"
    }
   ],
   "source": [
    "fig1 = model.plot(forecast, include_legend=True)\n"
   ]
  },
  {
   "cell_type": "code",
   "execution_count": 222,
   "metadata": {},
   "outputs": [
    {
     "data": {
      "text/html": [
       "<div>\n",
       "<style scoped>\n",
       "    .dataframe tbody tr th:only-of-type {\n",
       "        vertical-align: middle;\n",
       "    }\n",
       "\n",
       "    .dataframe tbody tr th {\n",
       "        vertical-align: top;\n",
       "    }\n",
       "\n",
       "    .dataframe thead th {\n",
       "        text-align: right;\n",
       "    }\n",
       "</style>\n",
       "<table border=\"1\" class=\"dataframe\">\n",
       "  <thead>\n",
       "    <tr style=\"text-align: right;\">\n",
       "      <th></th>\n",
       "      <th>ds</th>\n",
       "      <th>y</th>\n",
       "    </tr>\n",
       "  </thead>\n",
       "  <tbody>\n",
       "    <tr>\n",
       "      <th>0</th>\n",
       "      <td>2017-01-28</td>\n",
       "      <td>627375.000000</td>\n",
       "    </tr>\n",
       "    <tr>\n",
       "      <th>1</th>\n",
       "      <td>2017-01-29</td>\n",
       "      <td>578182.500000</td>\n",
       "    </tr>\n",
       "    <tr>\n",
       "      <th>2</th>\n",
       "      <td>2017-01-30</td>\n",
       "      <td>528990.000000</td>\n",
       "    </tr>\n",
       "    <tr>\n",
       "      <th>3</th>\n",
       "      <td>2017-01-31</td>\n",
       "      <td>600227.272727</td>\n",
       "    </tr>\n",
       "    <tr>\n",
       "      <th>4</th>\n",
       "      <td>2017-02-01</td>\n",
       "      <td>564529.411765</td>\n",
       "    </tr>\n",
       "    <tr>\n",
       "      <th>...</th>\n",
       "      <td>...</td>\n",
       "      <td>...</td>\n",
       "    </tr>\n",
       "    <tr>\n",
       "      <th>906</th>\n",
       "      <td>2019-07-23</td>\n",
       "      <td>562123.333333</td>\n",
       "    </tr>\n",
       "    <tr>\n",
       "      <th>907</th>\n",
       "      <td>2019-07-24</td>\n",
       "      <td>482500.000000</td>\n",
       "    </tr>\n",
       "    <tr>\n",
       "      <th>908</th>\n",
       "      <td>2019-07-25</td>\n",
       "      <td>547800.000000</td>\n",
       "    </tr>\n",
       "    <tr>\n",
       "      <th>909</th>\n",
       "      <td>2019-07-26</td>\n",
       "      <td>594408.333333</td>\n",
       "    </tr>\n",
       "    <tr>\n",
       "      <th>910</th>\n",
       "      <td>2019-07-27</td>\n",
       "      <td>707500.000000</td>\n",
       "    </tr>\n",
       "  </tbody>\n",
       "</table>\n",
       "<p>911 rows × 2 columns</p>\n",
       "</div>"
      ],
      "text/plain": [
       "            ds              y\n",
       "0   2017-01-28  627375.000000\n",
       "1   2017-01-29  578182.500000\n",
       "2   2017-01-30  528990.000000\n",
       "3   2017-01-31  600227.272727\n",
       "4   2017-02-01  564529.411765\n",
       "..         ...            ...\n",
       "906 2019-07-23  562123.333333\n",
       "907 2019-07-24  482500.000000\n",
       "908 2019-07-25  547800.000000\n",
       "909 2019-07-26  594408.333333\n",
       "910 2019-07-27  707500.000000\n",
       "\n",
       "[911 rows x 2 columns]"
      ]
     },
     "execution_count": 222,
     "metadata": {},
     "output_type": "execute_result"
    }
   ],
   "source": [
    "test = test.reset_index(drop=True)\n",
    "test"
   ]
  },
  {
   "cell_type": "code",
   "execution_count": 223,
   "metadata": {},
   "outputs": [
    {
     "data": {
      "text/html": [
       "<div>\n",
       "<style scoped>\n",
       "    .dataframe tbody tr th:only-of-type {\n",
       "        vertical-align: middle;\n",
       "    }\n",
       "\n",
       "    .dataframe tbody tr th {\n",
       "        vertical-align: top;\n",
       "    }\n",
       "\n",
       "    .dataframe thead th {\n",
       "        text-align: right;\n",
       "    }\n",
       "</style>\n",
       "<table border=\"1\" class=\"dataframe\">\n",
       "  <thead>\n",
       "    <tr style=\"text-align: right;\">\n",
       "      <th></th>\n",
       "      <th>ds</th>\n",
       "      <th>y</th>\n",
       "    </tr>\n",
       "  </thead>\n",
       "  <tbody>\n",
       "    <tr>\n",
       "      <th>0</th>\n",
       "      <td>2007-02-07</td>\n",
       "      <td>525000.000000</td>\n",
       "    </tr>\n",
       "    <tr>\n",
       "      <th>1</th>\n",
       "      <td>2007-02-08</td>\n",
       "      <td>513250.000000</td>\n",
       "    </tr>\n",
       "    <tr>\n",
       "      <th>2</th>\n",
       "      <td>2007-02-09</td>\n",
       "      <td>501500.000000</td>\n",
       "    </tr>\n",
       "    <tr>\n",
       "      <th>3</th>\n",
       "      <td>2007-02-10</td>\n",
       "      <td>489750.000000</td>\n",
       "    </tr>\n",
       "    <tr>\n",
       "      <th>4</th>\n",
       "      <td>2007-02-11</td>\n",
       "      <td>478000.000000</td>\n",
       "    </tr>\n",
       "    <tr>\n",
       "      <th>...</th>\n",
       "      <td>...</td>\n",
       "      <td>...</td>\n",
       "    </tr>\n",
       "    <tr>\n",
       "      <th>3638</th>\n",
       "      <td>2017-01-23</td>\n",
       "      <td>496528.947368</td>\n",
       "    </tr>\n",
       "    <tr>\n",
       "      <th>3639</th>\n",
       "      <td>2017-01-24</td>\n",
       "      <td>506750.000000</td>\n",
       "    </tr>\n",
       "    <tr>\n",
       "      <th>3640</th>\n",
       "      <td>2017-01-25</td>\n",
       "      <td>738000.000000</td>\n",
       "    </tr>\n",
       "    <tr>\n",
       "      <th>3641</th>\n",
       "      <td>2017-01-26</td>\n",
       "      <td>645428.571429</td>\n",
       "    </tr>\n",
       "    <tr>\n",
       "      <th>3642</th>\n",
       "      <td>2017-01-27</td>\n",
       "      <td>552857.142857</td>\n",
       "    </tr>\n",
       "  </tbody>\n",
       "</table>\n",
       "<p>3643 rows × 2 columns</p>\n",
       "</div>"
      ],
      "text/plain": [
       "             ds              y\n",
       "0    2007-02-07  525000.000000\n",
       "1    2007-02-08  513250.000000\n",
       "2    2007-02-09  501500.000000\n",
       "3    2007-02-10  489750.000000\n",
       "4    2007-02-11  478000.000000\n",
       "...         ...            ...\n",
       "3638 2017-01-23  496528.947368\n",
       "3639 2017-01-24  506750.000000\n",
       "3640 2017-01-25  738000.000000\n",
       "3641 2017-01-26  645428.571429\n",
       "3642 2017-01-27  552857.142857\n",
       "\n",
       "[3643 rows x 2 columns]"
      ]
     },
     "execution_count": 223,
     "metadata": {},
     "output_type": "execute_result"
    }
   ],
   "source": [
    "train"
   ]
  },
  {
   "cell_type": "code",
   "execution_count": 224,
   "metadata": {},
   "outputs": [
    {
     "data": {
      "text/plain": [
       "(911, 19)"
      ]
     },
     "execution_count": 224,
     "metadata": {},
     "output_type": "execute_result"
    }
   ],
   "source": [
    "forecast.shape"
   ]
  },
  {
   "cell_type": "code",
   "execution_count": 232,
   "metadata": {},
   "outputs": [],
   "source": [
    "evalution_df = pd.DataFrame(\n",
    "    {\n",
    "        'date':test['ds'],\n",
    "        'actual':test['y'],\n",
    "        'predicted':forecast['yhat'],\n",
    "        'test - forecast':test['y'] - forecast['yhat'],\n",
    "        'upper_bound':forecast['yhat_upper'],\n",
    "        'diff_2':test['y'] - forecast['yhat_upper'],\n",
    "        'lower_bound':forecast['yhat_lower'],\n",
    "        'diff_3':test['y'] - forecast['yhat_lower'],\n",
    "    }\n",
    ")"
   ]
  },
  {
   "cell_type": "code",
   "execution_count": 233,
   "metadata": {},
   "outputs": [
    {
     "data": {
      "text/html": [
       "<div>\n",
       "<style scoped>\n",
       "    .dataframe tbody tr th:only-of-type {\n",
       "        vertical-align: middle;\n",
       "    }\n",
       "\n",
       "    .dataframe tbody tr th {\n",
       "        vertical-align: top;\n",
       "    }\n",
       "\n",
       "    .dataframe thead th {\n",
       "        text-align: right;\n",
       "    }\n",
       "</style>\n",
       "<table border=\"1\" class=\"dataframe\">\n",
       "  <thead>\n",
       "    <tr style=\"text-align: right;\">\n",
       "      <th></th>\n",
       "      <th>date</th>\n",
       "      <th>actual</th>\n",
       "      <th>predicted</th>\n",
       "      <th>test - forecast</th>\n",
       "      <th>upper_bound</th>\n",
       "      <th>diff_2</th>\n",
       "      <th>lower_bound</th>\n",
       "      <th>diff_3</th>\n",
       "    </tr>\n",
       "  </thead>\n",
       "  <tbody>\n",
       "    <tr>\n",
       "      <th>0</th>\n",
       "      <td>2017-01-28</td>\n",
       "      <td>627375.000000</td>\n",
       "      <td>718008.348176</td>\n",
       "      <td>-90633.348176</td>\n",
       "      <td>9.081901e+05</td>\n",
       "      <td>-280815.085272</td>\n",
       "      <td>522631.521809</td>\n",
       "      <td>104743.478191</td>\n",
       "    </tr>\n",
       "    <tr>\n",
       "      <th>1</th>\n",
       "      <td>2017-01-29</td>\n",
       "      <td>578182.500000</td>\n",
       "      <td>680454.062172</td>\n",
       "      <td>-102271.562172</td>\n",
       "      <td>8.669048e+05</td>\n",
       "      <td>-288722.323901</td>\n",
       "      <td>491193.637659</td>\n",
       "      <td>86988.862341</td>\n",
       "    </tr>\n",
       "    <tr>\n",
       "      <th>2</th>\n",
       "      <td>2017-01-30</td>\n",
       "      <td>528990.000000</td>\n",
       "      <td>616213.025431</td>\n",
       "      <td>-87223.025431</td>\n",
       "      <td>8.061299e+05</td>\n",
       "      <td>-277139.937986</td>\n",
       "      <td>401515.397072</td>\n",
       "      <td>127474.602928</td>\n",
       "    </tr>\n",
       "    <tr>\n",
       "      <th>3</th>\n",
       "      <td>2017-01-31</td>\n",
       "      <td>600227.272727</td>\n",
       "      <td>604107.829369</td>\n",
       "      <td>-3880.556642</td>\n",
       "      <td>8.049550e+05</td>\n",
       "      <td>-204727.697129</td>\n",
       "      <td>421377.162550</td>\n",
       "      <td>178850.110177</td>\n",
       "    </tr>\n",
       "    <tr>\n",
       "      <th>4</th>\n",
       "      <td>2017-02-01</td>\n",
       "      <td>564529.411765</td>\n",
       "      <td>614414.049231</td>\n",
       "      <td>-49884.637466</td>\n",
       "      <td>8.128853e+05</td>\n",
       "      <td>-248355.901943</td>\n",
       "      <td>420314.699607</td>\n",
       "      <td>144214.712157</td>\n",
       "    </tr>\n",
       "    <tr>\n",
       "      <th>...</th>\n",
       "      <td>...</td>\n",
       "      <td>...</td>\n",
       "      <td>...</td>\n",
       "      <td>...</td>\n",
       "      <td>...</td>\n",
       "      <td>...</td>\n",
       "      <td>...</td>\n",
       "      <td>...</td>\n",
       "    </tr>\n",
       "    <tr>\n",
       "      <th>906</th>\n",
       "      <td>2019-07-23</td>\n",
       "      <td>562123.333333</td>\n",
       "      <td>712065.311081</td>\n",
       "      <td>-149941.977747</td>\n",
       "      <td>9.214327e+05</td>\n",
       "      <td>-359309.318838</td>\n",
       "      <td>509981.053043</td>\n",
       "      <td>52142.280290</td>\n",
       "    </tr>\n",
       "    <tr>\n",
       "      <th>907</th>\n",
       "      <td>2019-07-24</td>\n",
       "      <td>482500.000000</td>\n",
       "      <td>723070.503335</td>\n",
       "      <td>-240570.503335</td>\n",
       "      <td>9.292284e+05</td>\n",
       "      <td>-446728.401242</td>\n",
       "      <td>518082.331901</td>\n",
       "      <td>-35582.331901</td>\n",
       "    </tr>\n",
       "    <tr>\n",
       "      <th>908</th>\n",
       "      <td>2019-07-25</td>\n",
       "      <td>547800.000000</td>\n",
       "      <td>718302.474930</td>\n",
       "      <td>-170502.474930</td>\n",
       "      <td>9.151353e+05</td>\n",
       "      <td>-367335.341321</td>\n",
       "      <td>509937.236766</td>\n",
       "      <td>37862.763234</td>\n",
       "    </tr>\n",
       "    <tr>\n",
       "      <th>909</th>\n",
       "      <td>2019-07-26</td>\n",
       "      <td>594408.333333</td>\n",
       "      <td>726453.085187</td>\n",
       "      <td>-132044.751854</td>\n",
       "      <td>9.284510e+05</td>\n",
       "      <td>-334042.688769</td>\n",
       "      <td>516885.266947</td>\n",
       "      <td>77523.066386</td>\n",
       "    </tr>\n",
       "    <tr>\n",
       "      <th>910</th>\n",
       "      <td>2019-07-27</td>\n",
       "      <td>707500.000000</td>\n",
       "      <td>820619.149720</td>\n",
       "      <td>-113119.149720</td>\n",
       "      <td>1.017947e+06</td>\n",
       "      <td>-310446.735025</td>\n",
       "      <td>607598.184919</td>\n",
       "      <td>99901.815081</td>\n",
       "    </tr>\n",
       "  </tbody>\n",
       "</table>\n",
       "<p>911 rows × 8 columns</p>\n",
       "</div>"
      ],
      "text/plain": [
       "          date         actual      predicted  test - forecast   upper_bound  \\\n",
       "0   2017-01-28  627375.000000  718008.348176    -90633.348176  9.081901e+05   \n",
       "1   2017-01-29  578182.500000  680454.062172   -102271.562172  8.669048e+05   \n",
       "2   2017-01-30  528990.000000  616213.025431    -87223.025431  8.061299e+05   \n",
       "3   2017-01-31  600227.272727  604107.829369     -3880.556642  8.049550e+05   \n",
       "4   2017-02-01  564529.411765  614414.049231    -49884.637466  8.128853e+05   \n",
       "..         ...            ...            ...              ...           ...   \n",
       "906 2019-07-23  562123.333333  712065.311081   -149941.977747  9.214327e+05   \n",
       "907 2019-07-24  482500.000000  723070.503335   -240570.503335  9.292284e+05   \n",
       "908 2019-07-25  547800.000000  718302.474930   -170502.474930  9.151353e+05   \n",
       "909 2019-07-26  594408.333333  726453.085187   -132044.751854  9.284510e+05   \n",
       "910 2019-07-27  707500.000000  820619.149720   -113119.149720  1.017947e+06   \n",
       "\n",
       "            diff_2    lower_bound         diff_3  \n",
       "0   -280815.085272  522631.521809  104743.478191  \n",
       "1   -288722.323901  491193.637659   86988.862341  \n",
       "2   -277139.937986  401515.397072  127474.602928  \n",
       "3   -204727.697129  421377.162550  178850.110177  \n",
       "4   -248355.901943  420314.699607  144214.712157  \n",
       "..             ...            ...            ...  \n",
       "906 -359309.318838  509981.053043   52142.280290  \n",
       "907 -446728.401242  518082.331901  -35582.331901  \n",
       "908 -367335.341321  509937.236766   37862.763234  \n",
       "909 -334042.688769  516885.266947   77523.066386  \n",
       "910 -310446.735025  607598.184919   99901.815081  \n",
       "\n",
       "[911 rows x 8 columns]"
      ]
     },
     "execution_count": 233,
     "metadata": {},
     "output_type": "execute_result"
    }
   ],
   "source": [
    "evalution_df"
   ]
  },
  {
   "cell_type": "markdown",
   "metadata": {},
   "source": [
    "find the percentage by which the forecast is greater than the actual"
   ]
  },
  {
   "cell_type": "code",
   "execution_count": 227,
   "metadata": {},
   "outputs": [],
   "source": [
    "from sklearn.metrics import mean_absolute_error, mean_squared_error"
   ]
  },
  {
   "cell_type": "code",
   "execution_count": 228,
   "metadata": {},
   "outputs": [
    {
     "name": "stdout",
     "output_type": "stream",
     "text": [
      "Mean Absolute Error (MAE): 95120.44\n",
      "Mean Squared Error (MSE): 19869127722.08\n",
      "Root Mean Squared Error (RMSE): 140957.89\n"
     ]
    }
   ],
   "source": [
    "# Calculate accuracy metrics\n",
    "mae = mean_absolute_error(test['y'], forecast['yhat'])\n",
    "mse = mean_squared_error(test['y'], forecast['yhat'])\n",
    "rmse = np.sqrt(mse)\n",
    "\n",
    "print(f'Mean Absolute Error (MAE): {mae:.2f}')\n",
    "print(f'Mean Squared Error (MSE): {mse:.2f}')\n",
    "print(f'Root Mean Squared Error (RMSE): {rmse:.2f}')"
   ]
  },
  {
   "cell_type": "code",
   "execution_count": 229,
   "metadata": {},
   "outputs": [
    {
     "name": "stdout",
     "output_type": "stream",
     "text": [
      "Mean Absolute Error (MAE): 234112.94\n",
      "Mean Squared Error (MSE): 67025307394.57\n",
      "Root Mean Squared Error (RMSE): 258892.46\n"
     ]
    }
   ],
   "source": [
    "# Calculate accuracy metrics\n",
    "mae = mean_absolute_error(test['y'], forecast['yhat_upper'])\n",
    "mse = mean_squared_error(test['y'], forecast['yhat_upper'])\n",
    "rmse = np.sqrt(mse)\n",
    "\n",
    "print(f'Mean Absolute Error (MAE): {mae:.2f}')\n",
    "print(f'Mean Squared Error (MSE): {mse:.2f}')\n",
    "print(f'Root Mean Squared Error (RMSE): {rmse:.2f}')"
   ]
  },
  {
   "cell_type": "code",
   "execution_count": 230,
   "metadata": {},
   "outputs": [
    {
     "name": "stdout",
     "output_type": "stream",
     "text": [
      "Mean Absolute Error (MAE): 181826.94\n",
      "Mean Squared Error (MSE): 50173989893.71\n",
      "Root Mean Squared Error (RMSE): 223995.51\n"
     ]
    }
   ],
   "source": [
    "# Calculate accuracy metrics\n",
    "mae = mean_absolute_error(test['y'], forecast['yhat_lower'])\n",
    "mse = mean_squared_error(test['y'], forecast['yhat_lower'])\n",
    "rmse = np.sqrt(mse)\n",
    "\n",
    "print(f'Mean Absolute Error (MAE): {mae:.2f}')\n",
    "print(f'Mean Squared Error (MSE): {mse:.2f}')\n",
    "print(f'Root Mean Squared Error (RMSE): {rmse:.2f}')"
   ]
  },
  {
   "cell_type": "code",
   "execution_count": 231,
   "metadata": {},
   "outputs": [
    {
     "data": {
      "image/png": "[encoded data removed]",
      "text/plain": [
       "<Figure size 1800x1200 with 1 Axes>"
      ]
     },
     "metadata": {},
     "output_type": "display_data"
    }
   ],
   "source": [
    "plt.figure(figsize=(18, 12))\n",
    "sns.lineplot(x=train['ds'], y=train['y'], label='Training Sales')\n",
    "sns.lineplot(x=test['ds'], y=test['y'], label='Actual Sales')\n",
    "sns.lineplot(x=forecast['ds'], y=forecast['yhat'], label='Forecast')\n",
    "plt.title('Sales Forecast vs Actual Sales')\n",
    "plt.xlabel('Date')\n",
    "plt.ylabel('Sales')\n",
    "plt.legend()\n",
    "plt.show()"
   ]
  },
  {
   "cell_type": "code",
   "execution_count": null,
   "metadata": {},
   "outputs": [],
   "source": []
  }
 ],
 "metadata": {
  "kernelspec": {
   "display_name": ".env",
   "language": "python",
   "name": "python3"
  },
  "language_info": {
   "codemirror_mode": {
    "name": "ipython",
    "version": 3
   },
   "file_extension": ".py",
   "mimetype": "text/x-python",
   "name": "python",
   "nbconvert_exporter": "python",
   "pygments_lexer": "ipython3",
   "version": "3.11.9"
  }
 },
 "nbformat": 4,
 "nbformat_minor": 2
}
