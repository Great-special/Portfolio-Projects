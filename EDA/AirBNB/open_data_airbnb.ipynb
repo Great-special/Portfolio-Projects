{
 "cells": [
  {
   "cell_type": "markdown",
   "metadata": {},
   "source": [
    "## **Exploratory Data Analysis On AirBnB**"
   ]
  },
  {
   "cell_type": "markdown",
   "metadata": {},
   "source": [
    "**Objective** To Uncover patterns, anomalies and key insights"
   ]
  },
  {
   "cell_type": "markdown",
   "metadata": {},
   "source": [
    "**Questions/Objectives:**\n",
    "1. What is the total number of listing?\n",
    "2. Who is the host with the most listing?\n",
    "3. What is the booking rate?\n",
    "4. What is the most listed property type?"
   ]
  },
  {
   "cell_type": "markdown",
   "metadata": {},
   "source": [
    "Importing Libs"
   ]
  },
  {
   "cell_type": "code",
   "execution_count": 422,
   "metadata": {},
   "outputs": [],
   "source": [
    "import numpy as np\n",
    "import pandas as pd\n",
    "import matplotlib.pyplot as plt\n",
    "import seaborn as sns"
   ]
  },
  {
   "cell_type": "code",
   "execution_count": 423,
   "metadata": {},
   "outputs": [],
   "source": [
    "pd.set_option('display.max_rows', 200)\n",
    "pd.set_option('display.max_columns', None)"
   ]
  },
  {
   "cell_type": "markdown",
   "metadata": {},
   "source": [
    "Loading Data into frame"
   ]
  },
  {
   "cell_type": "code",
   "execution_count": 424,
   "metadata": {},
   "outputs": [
    {
     "name": "stderr",
     "output_type": "stream",
     "text": [
      "C:\\Users\\Great Speed\\AppData\\Local\\Temp\\ipykernel_9204\\2448193993.py:1: DtypeWarning: Columns (25) have mixed types. Specify dtype option on import or set low_memory=False.\n",
      "  airBnb = pd.read_csv('data\\Airbnb_Open_Data.csv')\n"
     ]
    },
    {
     "data": {
      "text/html": [
       "<div>\n",
       "<style scoped>\n",
       "    .dataframe tbody tr th:only-of-type {\n",
       "        vertical-align: middle;\n",
       "    }\n",
       "\n",
       "    .dataframe tbody tr th {\n",
       "        vertical-align: top;\n",
       "    }\n",
       "\n",
       "    .dataframe thead th {\n",
       "        text-align: right;\n",
       "    }\n",
       "</style>\n",
       "<table border=\"1\" class=\"dataframe\">\n",
       "  <thead>\n",
       "    <tr style=\"text-align: right;\">\n",
       "      <th></th>\n",
       "      <th>id</th>\n",
       "      <th>NAME</th>\n",
       "      <th>host id</th>\n",
       "      <th>host_identity_verified</th>\n",
       "      <th>host name</th>\n",
       "      <th>neighbourhood group</th>\n",
       "      <th>neighbourhood</th>\n",
       "      <th>lat</th>\n",
       "      <th>long</th>\n",
       "      <th>country</th>\n",
       "      <th>country code</th>\n",
       "      <th>instant_bookable</th>\n",
       "      <th>cancellation_policy</th>\n",
       "      <th>room type</th>\n",
       "      <th>Construction year</th>\n",
       "      <th>price</th>\n",
       "      <th>service fee</th>\n",
       "      <th>minimum nights</th>\n",
       "      <th>number of reviews</th>\n",
       "      <th>last review</th>\n",
       "      <th>reviews per month</th>\n",
       "      <th>review rate number</th>\n",
       "      <th>calculated host listings count</th>\n",
       "      <th>availability 365</th>\n",
       "      <th>house_rules</th>\n",
       "      <th>license</th>\n",
       "    </tr>\n",
       "  </thead>\n",
       "  <tbody>\n",
       "    <tr>\n",
       "      <th>0</th>\n",
       "      <td>1001254</td>\n",
       "      <td>Clean &amp; quiet apt home by the park</td>\n",
       "      <td>80014485718</td>\n",
       "      <td>unconfirmed</td>\n",
       "      <td>Madaline</td>\n",
       "      <td>Brooklyn</td>\n",
       "      <td>Kensington</td>\n",
       "      <td>40.64749</td>\n",
       "      <td>-73.97237</td>\n",
       "      <td>United States</td>\n",
       "      <td>US</td>\n",
       "      <td>False</td>\n",
       "      <td>strict</td>\n",
       "      <td>Private room</td>\n",
       "      <td>2020.0</td>\n",
       "      <td>$966</td>\n",
       "      <td>$193</td>\n",
       "      <td>10.0</td>\n",
       "      <td>9.0</td>\n",
       "      <td>10/19/2021</td>\n",
       "      <td>0.21</td>\n",
       "      <td>4.0</td>\n",
       "      <td>6.0</td>\n",
       "      <td>286.0</td>\n",
       "      <td>Clean up and treat the home the way you'd like...</td>\n",
       "      <td>NaN</td>\n",
       "    </tr>\n",
       "    <tr>\n",
       "      <th>1</th>\n",
       "      <td>1002102</td>\n",
       "      <td>Skylit Midtown Castle</td>\n",
       "      <td>52335172823</td>\n",
       "      <td>verified</td>\n",
       "      <td>Jenna</td>\n",
       "      <td>Manhattan</td>\n",
       "      <td>Midtown</td>\n",
       "      <td>40.75362</td>\n",
       "      <td>-73.98377</td>\n",
       "      <td>United States</td>\n",
       "      <td>US</td>\n",
       "      <td>False</td>\n",
       "      <td>moderate</td>\n",
       "      <td>Entire home/apt</td>\n",
       "      <td>2007.0</td>\n",
       "      <td>$142</td>\n",
       "      <td>$28</td>\n",
       "      <td>30.0</td>\n",
       "      <td>45.0</td>\n",
       "      <td>5/21/2022</td>\n",
       "      <td>0.38</td>\n",
       "      <td>4.0</td>\n",
       "      <td>2.0</td>\n",
       "      <td>228.0</td>\n",
       "      <td>Pet friendly but please confirm with me if the...</td>\n",
       "      <td>NaN</td>\n",
       "    </tr>\n",
       "    <tr>\n",
       "      <th>2</th>\n",
       "      <td>1002403</td>\n",
       "      <td>THE VILLAGE OF HARLEM....NEW YORK !</td>\n",
       "      <td>78829239556</td>\n",
       "      <td>NaN</td>\n",
       "      <td>Elise</td>\n",
       "      <td>Manhattan</td>\n",
       "      <td>Harlem</td>\n",
       "      <td>40.80902</td>\n",
       "      <td>-73.94190</td>\n",
       "      <td>United States</td>\n",
       "      <td>US</td>\n",
       "      <td>True</td>\n",
       "      <td>flexible</td>\n",
       "      <td>Private room</td>\n",
       "      <td>2005.0</td>\n",
       "      <td>$620</td>\n",
       "      <td>$124</td>\n",
       "      <td>3.0</td>\n",
       "      <td>0.0</td>\n",
       "      <td>NaN</td>\n",
       "      <td>NaN</td>\n",
       "      <td>5.0</td>\n",
       "      <td>1.0</td>\n",
       "      <td>352.0</td>\n",
       "      <td>I encourage you to use my kitchen, cooking and...</td>\n",
       "      <td>NaN</td>\n",
       "    </tr>\n",
       "    <tr>\n",
       "      <th>3</th>\n",
       "      <td>1002755</td>\n",
       "      <td>NaN</td>\n",
       "      <td>85098326012</td>\n",
       "      <td>unconfirmed</td>\n",
       "      <td>Garry</td>\n",
       "      <td>Brooklyn</td>\n",
       "      <td>Clinton Hill</td>\n",
       "      <td>40.68514</td>\n",
       "      <td>-73.95976</td>\n",
       "      <td>United States</td>\n",
       "      <td>US</td>\n",
       "      <td>True</td>\n",
       "      <td>moderate</td>\n",
       "      <td>Entire home/apt</td>\n",
       "      <td>2005.0</td>\n",
       "      <td>$368</td>\n",
       "      <td>$74</td>\n",
       "      <td>30.0</td>\n",
       "      <td>270.0</td>\n",
       "      <td>07/05/2019</td>\n",
       "      <td>4.64</td>\n",
       "      <td>4.0</td>\n",
       "      <td>1.0</td>\n",
       "      <td>322.0</td>\n",
       "      <td>NaN</td>\n",
       "      <td>NaN</td>\n",
       "    </tr>\n",
       "    <tr>\n",
       "      <th>4</th>\n",
       "      <td>1003689</td>\n",
       "      <td>Entire Apt: Spacious Studio/Loft by central park</td>\n",
       "      <td>92037596077</td>\n",
       "      <td>verified</td>\n",
       "      <td>Lyndon</td>\n",
       "      <td>Manhattan</td>\n",
       "      <td>East Harlem</td>\n",
       "      <td>40.79851</td>\n",
       "      <td>-73.94399</td>\n",
       "      <td>United States</td>\n",
       "      <td>US</td>\n",
       "      <td>False</td>\n",
       "      <td>moderate</td>\n",
       "      <td>Entire home/apt</td>\n",
       "      <td>2009.0</td>\n",
       "      <td>$204</td>\n",
       "      <td>$41</td>\n",
       "      <td>10.0</td>\n",
       "      <td>9.0</td>\n",
       "      <td>11/19/2018</td>\n",
       "      <td>0.10</td>\n",
       "      <td>3.0</td>\n",
       "      <td>1.0</td>\n",
       "      <td>289.0</td>\n",
       "      <td>Please no smoking in the house, porch or on th...</td>\n",
       "      <td>NaN</td>\n",
       "    </tr>\n",
       "  </tbody>\n",
       "</table>\n",
       "</div>"
      ],
      "text/plain": [
       "        id                                              NAME      host id  \\\n",
       "0  1001254                Clean & quiet apt home by the park  80014485718   \n",
       "1  1002102                             Skylit Midtown Castle  52335172823   \n",
       "2  1002403               THE VILLAGE OF HARLEM....NEW YORK !  78829239556   \n",
       "3  1002755                                               NaN  85098326012   \n",
       "4  1003689  Entire Apt: Spacious Studio/Loft by central park  92037596077   \n",
       "\n",
       "  host_identity_verified host name neighbourhood group neighbourhood  \\\n",
       "0            unconfirmed  Madaline            Brooklyn    Kensington   \n",
       "1               verified     Jenna           Manhattan       Midtown   \n",
       "2                    NaN     Elise           Manhattan        Harlem   \n",
       "3            unconfirmed     Garry            Brooklyn  Clinton Hill   \n",
       "4               verified    Lyndon           Manhattan   East Harlem   \n",
       "\n",
       "        lat      long        country country code instant_bookable  \\\n",
       "0  40.64749 -73.97237  United States           US            False   \n",
       "1  40.75362 -73.98377  United States           US            False   \n",
       "2  40.80902 -73.94190  United States           US             True   \n",
       "3  40.68514 -73.95976  United States           US             True   \n",
       "4  40.79851 -73.94399  United States           US            False   \n",
       "\n",
       "  cancellation_policy        room type  Construction year  price service fee  \\\n",
       "0              strict     Private room             2020.0  $966        $193    \n",
       "1            moderate  Entire home/apt             2007.0  $142         $28    \n",
       "2            flexible     Private room             2005.0  $620        $124    \n",
       "3            moderate  Entire home/apt             2005.0  $368         $74    \n",
       "4            moderate  Entire home/apt             2009.0  $204         $41    \n",
       "\n",
       "   minimum nights  number of reviews last review  reviews per month  \\\n",
       "0            10.0                9.0  10/19/2021               0.21   \n",
       "1            30.0               45.0   5/21/2022               0.38   \n",
       "2             3.0                0.0         NaN                NaN   \n",
       "3            30.0              270.0  07/05/2019               4.64   \n",
       "4            10.0                9.0  11/19/2018               0.10   \n",
       "\n",
       "   review rate number  calculated host listings count  availability 365  \\\n",
       "0                 4.0                             6.0             286.0   \n",
       "1                 4.0                             2.0             228.0   \n",
       "2                 5.0                             1.0             352.0   \n",
       "3                 4.0                             1.0             322.0   \n",
       "4                 3.0                             1.0             289.0   \n",
       "\n",
       "                                         house_rules license  \n",
       "0  Clean up and treat the home the way you'd like...     NaN  \n",
       "1  Pet friendly but please confirm with me if the...     NaN  \n",
       "2  I encourage you to use my kitchen, cooking and...     NaN  \n",
       "3                                                NaN     NaN  \n",
       "4  Please no smoking in the house, porch or on th...     NaN  "
      ]
     },
     "execution_count": 424,
     "metadata": {},
     "output_type": "execute_result"
    }
   ],
   "source": [
    "airBnb = pd.read_csv('data\\Airbnb_Open_Data.csv')\n",
    "airBnb.head()"
   ]
  },
  {
   "cell_type": "markdown",
   "metadata": {},
   "source": [
    "Data Cleaning and preparation"
   ]
  },
  {
   "cell_type": "code",
   "execution_count": 425,
   "metadata": {},
   "outputs": [
    {
     "data": {
      "text/plain": [
       "(102599, 26)"
      ]
     },
     "execution_count": 425,
     "metadata": {},
     "output_type": "execute_result"
    }
   ],
   "source": [
    "airBnb.shape"
   ]
  },
  {
   "cell_type": "code",
   "execution_count": 426,
   "metadata": {},
   "outputs": [
    {
     "name": "stdout",
     "output_type": "stream",
     "text": [
      "<class 'pandas.core.frame.DataFrame'>\n",
      "RangeIndex: 102599 entries, 0 to 102598\n",
      "Data columns (total 26 columns):\n",
      " #   Column                          Non-Null Count   Dtype  \n",
      "---  ------                          --------------   -----  \n",
      " 0   id                              102599 non-null  int64  \n",
      " 1   NAME                            102349 non-null  object \n",
      " 2   host id                         102599 non-null  int64  \n",
      " 3   host_identity_verified          102310 non-null  object \n",
      " 4   host name                       102193 non-null  object \n",
      " 5   neighbourhood group             102570 non-null  object \n",
      " 6   neighbourhood                   102583 non-null  object \n",
      " 7   lat                             102591 non-null  float64\n",
      " 8   long                            102591 non-null  float64\n",
      " 9   country                         102067 non-null  object \n",
      " 10  country code                    102468 non-null  object \n",
      " 11  instant_bookable                102494 non-null  object \n",
      " 12  cancellation_policy             102523 non-null  object \n",
      " 13  room type                       102599 non-null  object \n",
      " 14  Construction year               102385 non-null  float64\n",
      " 15  price                           102352 non-null  object \n",
      " 16  service fee                     102326 non-null  object \n",
      " 17  minimum nights                  102190 non-null  float64\n",
      " 18  number of reviews               102416 non-null  float64\n",
      " 19  last review                     86706 non-null   object \n",
      " 20  reviews per month               86720 non-null   float64\n",
      " 21  review rate number              102273 non-null  float64\n",
      " 22  calculated host listings count  102280 non-null  float64\n",
      " 23  availability 365                102151 non-null  float64\n",
      " 24  house_rules                     50468 non-null   object \n",
      " 25  license                         2 non-null       object \n",
      "dtypes: float64(9), int64(2), object(15)\n",
      "memory usage: 20.4+ MB\n",
      "None\n"
     ]
    }
   ],
   "source": [
    "print(airBnb.info())"
   ]
  },
  {
   "cell_type": "markdown",
   "metadata": {},
   "source": [
    "Wrong Data Format:\n",
    "* Service fee object -> float\n",
    "* Last review object -> date\n",
    "* price object -> float"
   ]
  },
  {
   "cell_type": "markdown",
   "metadata": {},
   "source": [
    "Checking for the missing data, and finding what percentage of the data is missing"
   ]
  },
  {
   "cell_type": "code",
   "execution_count": 427,
   "metadata": {},
   "outputs": [
    {
     "data": {
      "text/plain": [
       "id                                 0.000000\n",
       "NAME                               0.243667\n",
       "host id                            0.000000\n",
       "host_identity_verified             0.281679\n",
       "host name                          0.395715\n",
       "neighbourhood group                0.028265\n",
       "neighbourhood                      0.015595\n",
       "lat                                0.007797\n",
       "long                               0.007797\n",
       "country                            0.518524\n",
       "country code                       0.127682\n",
       "instant_bookable                   0.102340\n",
       "cancellation_policy                0.074075\n",
       "room type                          0.000000\n",
       "Construction year                  0.208579\n",
       "price                              0.240743\n",
       "service fee                        0.266084\n",
       "minimum nights                     0.398639\n",
       "number of reviews                  0.178364\n",
       "last review                       15.490404\n",
       "reviews per month                 15.476759\n",
       "review rate number                 0.317742\n",
       "calculated host listings count     0.310919\n",
       "availability 365                   0.436651\n",
       "house_rules                       50.810437\n",
       "license                           99.998051\n",
       "dtype: float64"
      ]
     },
     "execution_count": 427,
     "metadata": {},
     "output_type": "execute_result"
    }
   ],
   "source": [
    "percentage_missing = airBnb.isnull().sum()/len(airBnb) * 100\n",
    "percentage_missing"
   ]
  },
  {
   "cell_type": "markdown",
   "metadata": {},
   "source": [
    "Correcting the wrong format"
   ]
  },
  {
   "cell_type": "code",
   "execution_count": 428,
   "metadata": {},
   "outputs": [],
   "source": [
    "# Removing whitespaces at the end and start, symbols using regex \n",
    "airBnb['service fee'] = airBnb['service fee'].str.replace(r'[^\\d\\-.]', '', regex=True)\n",
    "airBnb['service fee'] = airBnb['service fee'].astype(float)"
   ]
  },
  {
   "cell_type": "code",
   "execution_count": 429,
   "metadata": {},
   "outputs": [],
   "source": [
    "airBnb['price'] = airBnb['price'].str.replace(r'[^\\d\\-.]', '', regex=True)\n",
    "airBnb['price']  = airBnb['price'].astype(float)"
   ]
  },
  {
   "cell_type": "code",
   "execution_count": 430,
   "metadata": {},
   "outputs": [],
   "source": [
    "# changing the last review to datetime\n",
    "airBnb['last review'] = pd.to_datetime(airBnb['last review'])"
   ]
  },
  {
   "cell_type": "code",
   "execution_count": 431,
   "metadata": {},
   "outputs": [],
   "source": [
    "# Removing null values from columns less than 1%\n",
    "columns_to_drop_from = percentage_missing[percentage_missing <= 1].index\n",
    "AirBnb = airBnb.dropna(subset=columns_to_drop_from)"
   ]
  },
  {
   "cell_type": "markdown",
   "metadata": {},
   "source": [
    "dropping unwanted column"
   ]
  },
  {
   "cell_type": "code",
   "execution_count": 432,
   "metadata": {},
   "outputs": [],
   "source": [
    "AirBnb = AirBnb.drop(columns=['id', 'host id', 'license', 'house_rules'])"
   ]
  },
  {
   "cell_type": "code",
   "execution_count": 433,
   "metadata": {},
   "outputs": [
    {
     "data": {
      "text/plain": [
       "NAME                               0.000000\n",
       "host_identity_verified             0.000000\n",
       "host name                          0.000000\n",
       "neighbourhood group                0.000000\n",
       "neighbourhood                      0.000000\n",
       "lat                                0.000000\n",
       "long                               0.000000\n",
       "country                            0.000000\n",
       "country code                       0.000000\n",
       "instant_bookable                   0.000000\n",
       "cancellation_policy                0.000000\n",
       "room type                          0.000000\n",
       "Construction year                  0.000000\n",
       "price                              0.000000\n",
       "service fee                        0.000000\n",
       "minimum nights                     0.000000\n",
       "number of reviews                  0.000000\n",
       "last review                       15.296066\n",
       "reviews per month                 15.296066\n",
       "review rate number                 0.000000\n",
       "calculated host listings count     0.000000\n",
       "availability 365                   0.000000\n",
       "dtype: float64"
      ]
     },
     "execution_count": 433,
     "metadata": {},
     "output_type": "execute_result"
    }
   ],
   "source": [
    "AirBnb.isna().sum()/len(AirBnb) * 100"
   ]
  },
  {
   "cell_type": "code",
   "execution_count": 434,
   "metadata": {},
   "outputs": [
    {
     "name": "stdout",
     "output_type": "stream",
     "text": [
      "<class 'pandas.core.frame.DataFrame'>\n",
      "Index: 99032 entries, 0 to 102598\n",
      "Data columns (total 22 columns):\n",
      " #   Column                          Non-Null Count  Dtype         \n",
      "---  ------                          --------------  -----         \n",
      " 0   NAME                            99032 non-null  object        \n",
      " 1   host_identity_verified          99032 non-null  object        \n",
      " 2   host name                       99032 non-null  object        \n",
      " 3   neighbourhood group             99032 non-null  object        \n",
      " 4   neighbourhood                   99032 non-null  object        \n",
      " 5   lat                             99032 non-null  float64       \n",
      " 6   long                            99032 non-null  float64       \n",
      " 7   country                         99032 non-null  object        \n",
      " 8   country code                    99032 non-null  object        \n",
      " 9   instant_bookable                99032 non-null  object        \n",
      " 10  cancellation_policy             99032 non-null  object        \n",
      " 11  room type                       99032 non-null  object        \n",
      " 12  Construction year               99032 non-null  float64       \n",
      " 13  price                           99032 non-null  float64       \n",
      " 14  service fee                     99032 non-null  float64       \n",
      " 15  minimum nights                  99032 non-null  float64       \n",
      " 16  number of reviews               99032 non-null  float64       \n",
      " 17  last review                     83884 non-null  datetime64[ns]\n",
      " 18  reviews per month               83884 non-null  float64       \n",
      " 19  review rate number              99032 non-null  float64       \n",
      " 20  calculated host listings count  99032 non-null  float64       \n",
      " 21  availability 365                99032 non-null  float64       \n",
      "dtypes: datetime64[ns](1), float64(11), object(10)\n",
      "memory usage: 17.4+ MB\n"
     ]
    }
   ],
   "source": [
    "AirBnb.info()"
   ]
  },
  {
   "cell_type": "code",
   "execution_count": 435,
   "metadata": {},
   "outputs": [
    {
     "data": {
      "text/plain": [
       "3.4766420725348155"
      ]
     },
     "execution_count": 435,
     "metadata": {},
     "output_type": "execute_result"
    }
   ],
   "source": [
    "percentage_of_data_loss =  100 - (len(AirBnb)/len(airBnb) * 100)\n",
    "percentage_of_data_loss"
   ]
  },
  {
   "cell_type": "markdown",
   "metadata": {},
   "source": [
    "After drop null value rows less than 1% of the population, 3.5% records of the population was lost "
   ]
  },
  {
   "cell_type": "code",
   "execution_count": 436,
   "metadata": {},
   "outputs": [],
   "source": [
    "AirBnb['reviews per month'] = AirBnb['reviews per month'].fillna(int(AirBnb['reviews per month'].mean()))"
   ]
  },
  {
   "cell_type": "code",
   "execution_count": 437,
   "metadata": {},
   "outputs": [
    {
     "name": "stderr",
     "output_type": "stream",
     "text": [
      "C:\\Users\\Great Speed\\AppData\\Local\\Temp\\ipykernel_9204\\2445561703.py:2: FutureWarning: Series.fillna with 'method' is deprecated and will raise in a future version. Use obj.ffill() or obj.bfill() instead.\n",
      "  AirBnb['last review'] = AirBnb['last review'].fillna(method='ffill')\n"
     ]
    }
   ],
   "source": [
    "# Filling the null value in the date field with the previous date\n",
    "AirBnb['last review'] = AirBnb['last review'].fillna(method='ffill')"
   ]
  },
  {
   "cell_type": "markdown",
   "metadata": {},
   "source": [
    "Checking for Duplicate values and dropping them if any"
   ]
  },
  {
   "cell_type": "code",
   "execution_count": 438,
   "metadata": {},
   "outputs": [
    {
     "data": {
      "text/plain": [
       "3531"
      ]
     },
     "execution_count": 438,
     "metadata": {},
     "output_type": "execute_result"
    }
   ],
   "source": [
    "AirBnb.duplicated().sum()"
   ]
  },
  {
   "cell_type": "code",
   "execution_count": 439,
   "metadata": {},
   "outputs": [],
   "source": [
    "cleanedAirBnb = AirBnb.drop_duplicates()"
   ]
  },
  {
   "cell_type": "markdown",
   "metadata": {},
   "source": [
    "Perform exploratory data analysis (EDA)"
   ]
  },
  {
   "cell_type": "code",
   "execution_count": 440,
   "metadata": {},
   "outputs": [
    {
     "data": {
      "text/html": [
       "<div>\n",
       "<style scoped>\n",
       "    .dataframe tbody tr th:only-of-type {\n",
       "        vertical-align: middle;\n",
       "    }\n",
       "\n",
       "    .dataframe tbody tr th {\n",
       "        vertical-align: top;\n",
       "    }\n",
       "\n",
       "    .dataframe thead th {\n",
       "        text-align: right;\n",
       "    }\n",
       "</style>\n",
       "<table border=\"1\" class=\"dataframe\">\n",
       "  <thead>\n",
       "    <tr style=\"text-align: right;\">\n",
       "      <th></th>\n",
       "      <th>lat</th>\n",
       "      <th>long</th>\n",
       "      <th>Construction year</th>\n",
       "      <th>price</th>\n",
       "      <th>service fee</th>\n",
       "      <th>minimum nights</th>\n",
       "      <th>number of reviews</th>\n",
       "      <th>last review</th>\n",
       "      <th>reviews per month</th>\n",
       "      <th>review rate number</th>\n",
       "      <th>calculated host listings count</th>\n",
       "      <th>availability 365</th>\n",
       "    </tr>\n",
       "  </thead>\n",
       "  <tbody>\n",
       "    <tr>\n",
       "      <th>count</th>\n",
       "      <td>95501.000000</td>\n",
       "      <td>95501.000000</td>\n",
       "      <td>95501.000000</td>\n",
       "      <td>95501.000000</td>\n",
       "      <td>95501.000000</td>\n",
       "      <td>95501.000000</td>\n",
       "      <td>95501.000000</td>\n",
       "      <td>95501</td>\n",
       "      <td>95501.000000</td>\n",
       "      <td>95501.000000</td>\n",
       "      <td>95501.000000</td>\n",
       "      <td>95501.000000</td>\n",
       "    </tr>\n",
       "    <tr>\n",
       "      <th>mean</th>\n",
       "      <td>40.728053</td>\n",
       "      <td>-73.949607</td>\n",
       "      <td>2012.489115</td>\n",
       "      <td>625.406310</td>\n",
       "      <td>125.082083</td>\n",
       "      <td>8.086125</td>\n",
       "      <td>27.407723</td>\n",
       "      <td>2019-05-14 00:30:49.212049920</td>\n",
       "      <td>1.320026</td>\n",
       "      <td>3.282133</td>\n",
       "      <td>8.027612</td>\n",
       "      <td>141.862912</td>\n",
       "    </tr>\n",
       "    <tr>\n",
       "      <th>min</th>\n",
       "      <td>40.499790</td>\n",
       "      <td>-74.249840</td>\n",
       "      <td>2003.000000</td>\n",
       "      <td>50.000000</td>\n",
       "      <td>10.000000</td>\n",
       "      <td>-1223.000000</td>\n",
       "      <td>0.000000</td>\n",
       "      <td>2012-07-11 00:00:00</td>\n",
       "      <td>0.010000</td>\n",
       "      <td>1.000000</td>\n",
       "      <td>1.000000</td>\n",
       "      <td>-10.000000</td>\n",
       "    </tr>\n",
       "    <tr>\n",
       "      <th>25%</th>\n",
       "      <td>40.688700</td>\n",
       "      <td>-73.982590</td>\n",
       "      <td>2008.000000</td>\n",
       "      <td>339.000000</td>\n",
       "      <td>68.000000</td>\n",
       "      <td>2.000000</td>\n",
       "      <td>1.000000</td>\n",
       "      <td>2018-10-22 00:00:00</td>\n",
       "      <td>0.280000</td>\n",
       "      <td>2.000000</td>\n",
       "      <td>1.000000</td>\n",
       "      <td>4.000000</td>\n",
       "    </tr>\n",
       "    <tr>\n",
       "      <th>50%</th>\n",
       "      <td>40.722300</td>\n",
       "      <td>-73.954470</td>\n",
       "      <td>2012.000000</td>\n",
       "      <td>625.000000</td>\n",
       "      <td>125.000000</td>\n",
       "      <td>3.000000</td>\n",
       "      <td>7.000000</td>\n",
       "      <td>2019-06-12 00:00:00</td>\n",
       "      <td>1.000000</td>\n",
       "      <td>3.000000</td>\n",
       "      <td>1.000000</td>\n",
       "      <td>98.000000</td>\n",
       "    </tr>\n",
       "    <tr>\n",
       "      <th>75%</th>\n",
       "      <td>40.762730</td>\n",
       "      <td>-73.932270</td>\n",
       "      <td>2017.000000</td>\n",
       "      <td>913.000000</td>\n",
       "      <td>183.000000</td>\n",
       "      <td>5.000000</td>\n",
       "      <td>30.000000</td>\n",
       "      <td>2019-07-03 00:00:00</td>\n",
       "      <td>1.720000</td>\n",
       "      <td>4.000000</td>\n",
       "      <td>2.000000</td>\n",
       "      <td>269.000000</td>\n",
       "    </tr>\n",
       "    <tr>\n",
       "      <th>max</th>\n",
       "      <td>40.916970</td>\n",
       "      <td>-73.705220</td>\n",
       "      <td>2022.000000</td>\n",
       "      <td>1200.000000</td>\n",
       "      <td>240.000000</td>\n",
       "      <td>5645.000000</td>\n",
       "      <td>1024.000000</td>\n",
       "      <td>2022-05-21 00:00:00</td>\n",
       "      <td>90.000000</td>\n",
       "      <td>5.000000</td>\n",
       "      <td>332.000000</td>\n",
       "      <td>3677.000000</td>\n",
       "    </tr>\n",
       "    <tr>\n",
       "      <th>std</th>\n",
       "      <td>0.055820</td>\n",
       "      <td>0.049568</td>\n",
       "      <td>5.762231</td>\n",
       "      <td>331.806693</td>\n",
       "      <td>66.364698</td>\n",
       "      <td>28.735194</td>\n",
       "      <td>49.493100</td>\n",
       "      <td>NaN</td>\n",
       "      <td>1.620913</td>\n",
       "      <td>1.283656</td>\n",
       "      <td>32.540160</td>\n",
       "      <td>135.440519</td>\n",
       "    </tr>\n",
       "  </tbody>\n",
       "</table>\n",
       "</div>"
      ],
      "text/plain": [
       "                lat          long  Construction year         price  \\\n",
       "count  95501.000000  95501.000000       95501.000000  95501.000000   \n",
       "mean      40.728053    -73.949607        2012.489115    625.406310   \n",
       "min       40.499790    -74.249840        2003.000000     50.000000   \n",
       "25%       40.688700    -73.982590        2008.000000    339.000000   \n",
       "50%       40.722300    -73.954470        2012.000000    625.000000   \n",
       "75%       40.762730    -73.932270        2017.000000    913.000000   \n",
       "max       40.916970    -73.705220        2022.000000   1200.000000   \n",
       "std        0.055820      0.049568           5.762231    331.806693   \n",
       "\n",
       "        service fee  minimum nights  number of reviews  \\\n",
       "count  95501.000000    95501.000000       95501.000000   \n",
       "mean     125.082083        8.086125          27.407723   \n",
       "min       10.000000    -1223.000000           0.000000   \n",
       "25%       68.000000        2.000000           1.000000   \n",
       "50%      125.000000        3.000000           7.000000   \n",
       "75%      183.000000        5.000000          30.000000   \n",
       "max      240.000000     5645.000000        1024.000000   \n",
       "std       66.364698       28.735194          49.493100   \n",
       "\n",
       "                         last review  reviews per month  review rate number  \\\n",
       "count                          95501       95501.000000        95501.000000   \n",
       "mean   2019-05-14 00:30:49.212049920           1.320026            3.282133   \n",
       "min              2012-07-11 00:00:00           0.010000            1.000000   \n",
       "25%              2018-10-22 00:00:00           0.280000            2.000000   \n",
       "50%              2019-06-12 00:00:00           1.000000            3.000000   \n",
       "75%              2019-07-03 00:00:00           1.720000            4.000000   \n",
       "max              2022-05-21 00:00:00          90.000000            5.000000   \n",
       "std                              NaN           1.620913            1.283656   \n",
       "\n",
       "       calculated host listings count  availability 365  \n",
       "count                    95501.000000      95501.000000  \n",
       "mean                         8.027612        141.862912  \n",
       "min                          1.000000        -10.000000  \n",
       "25%                          1.000000          4.000000  \n",
       "50%                          1.000000         98.000000  \n",
       "75%                          2.000000        269.000000  \n",
       "max                        332.000000       3677.000000  \n",
       "std                         32.540160        135.440519  "
      ]
     },
     "execution_count": 440,
     "metadata": {},
     "output_type": "execute_result"
    }
   ],
   "source": [
    "# Descriptive statistics\n",
    "cleanedAirBnb.describe()"
   ]
  },
  {
   "cell_type": "code",
   "execution_count": 441,
   "metadata": {},
   "outputs": [
    {
     "data": {
      "text/plain": [
       "NAME                                      object\n",
       "host_identity_verified                    object\n",
       "host name                                 object\n",
       "neighbourhood group                       object\n",
       "neighbourhood                             object\n",
       "lat                                      float64\n",
       "long                                     float64\n",
       "country                                   object\n",
       "country code                              object\n",
       "instant_bookable                          object\n",
       "cancellation_policy                       object\n",
       "room type                                 object\n",
       "Construction year                        float64\n",
       "price                                    float64\n",
       "service fee                              float64\n",
       "minimum nights                           float64\n",
       "number of reviews                        float64\n",
       "last review                       datetime64[ns]\n",
       "reviews per month                        float64\n",
       "review rate number                       float64\n",
       "calculated host listings count           float64\n",
       "availability 365                         float64\n",
       "dtype: object"
      ]
     },
     "execution_count": 441,
     "metadata": {},
     "output_type": "execute_result"
    }
   ],
   "source": [
    "cleanedAirBnb.dtypes"
   ]
  },
  {
   "cell_type": "markdown",
   "metadata": {},
   "source": [
    "Perform Univariate EDA"
   ]
  },
  {
   "cell_type": "code",
   "execution_count": 442,
   "metadata": {},
   "outputs": [
    {
     "data": {
      "text/plain": [
       "59611"
      ]
     },
     "execution_count": 442,
     "metadata": {},
     "output_type": "execute_result"
    }
   ],
   "source": [
    "cleanedAirBnb['NAME'].nunique()"
   ]
  },
  {
   "cell_type": "code",
   "execution_count": 443,
   "metadata": {},
   "outputs": [],
   "source": [
    "# sns.displot(cleanedAirBnb[\"NAME\"])\n",
    "# plt.show()"
   ]
  },
  {
   "cell_type": "code",
   "execution_count": 444,
   "metadata": {},
   "outputs": [
    {
     "data": {
      "text/plain": [
       "6"
      ]
     },
     "execution_count": 444,
     "metadata": {},
     "output_type": "execute_result"
    }
   ],
   "source": [
    "cleanedAirBnb['neighbourhood group'].nunique()"
   ]
  },
  {
   "cell_type": "code",
   "execution_count": 445,
   "metadata": {},
   "outputs": [
    {
     "data": {
      "image/png": "[encoded data removed]",
      "text/plain": [
       "<Figure size 500x500 with 1 Axes>"
      ]
     },
     "metadata": {},
     "output_type": "display_data"
    }
   ],
   "source": [
    "sns.displot(cleanedAirBnb[\"neighbourhood group\"])\n",
    "plt.xticks(rotation=90)\n",
    "plt.show()"
   ]
  },
  {
   "cell_type": "markdown",
   "metadata": {},
   "source": [
    "**Insight** The Manhattan and Brooklyn are the neighborhood with the highest listings"
   ]
  },
  {
   "cell_type": "code",
   "execution_count": 446,
   "metadata": {},
   "outputs": [
    {
     "data": {
      "text/plain": [
       "array([  6.,   2.,   1.,   4.,   3.,   5.,  28.,  11.,   8.,   9.,   7.,\n",
       "        52.,  18.,  15.,  19.,  10.,  39.,  13.,  26.,  29.,  12.,  21.,\n",
       "        96.,  14.,  34.,  43., 121.,  37.,  49.,  31.,  91.,  16.,  87.,\n",
       "        33.,  23.,  50.,  20.,  25., 232.,  17.,  47., 103.,  65.,  30.,\n",
       "        27., 327.,  32.,  53., 208., 171.,  44.,  48., 108.,  51., 161.,\n",
       "       152.,  83.,  24.,  22., 126.,  54.,  66.,  59.,  62., 102., 186.,\n",
       "       125.,  55.,  63.,  67.,  58.,  56.,  80.,  46., 218.,  86., 332.])"
      ]
     },
     "execution_count": 446,
     "metadata": {},
     "output_type": "execute_result"
    }
   ],
   "source": [
    "cleanedAirBnb['calculated host listings count'].unique()"
   ]
  },
  {
   "cell_type": "code",
   "execution_count": 447,
   "metadata": {},
   "outputs": [
    {
     "data": {
      "text/html": [
       "<div>\n",
       "<style scoped>\n",
       "    .dataframe tbody tr th:only-of-type {\n",
       "        vertical-align: middle;\n",
       "    }\n",
       "\n",
       "    .dataframe tbody tr th {\n",
       "        vertical-align: top;\n",
       "    }\n",
       "\n",
       "    .dataframe thead th {\n",
       "        text-align: right;\n",
       "    }\n",
       "</style>\n",
       "<table border=\"1\" class=\"dataframe\">\n",
       "  <thead>\n",
       "    <tr style=\"text-align: right;\">\n",
       "      <th></th>\n",
       "      <th>NAME</th>\n",
       "      <th>host_identity_verified</th>\n",
       "      <th>host name</th>\n",
       "      <th>neighbourhood group</th>\n",
       "      <th>neighbourhood</th>\n",
       "      <th>lat</th>\n",
       "      <th>long</th>\n",
       "      <th>country</th>\n",
       "      <th>country code</th>\n",
       "      <th>instant_bookable</th>\n",
       "      <th>cancellation_policy</th>\n",
       "      <th>room type</th>\n",
       "      <th>Construction year</th>\n",
       "      <th>price</th>\n",
       "      <th>service fee</th>\n",
       "      <th>minimum nights</th>\n",
       "      <th>number of reviews</th>\n",
       "      <th>last review</th>\n",
       "      <th>reviews per month</th>\n",
       "      <th>review rate number</th>\n",
       "      <th>total host listing</th>\n",
       "      <th>availability 365</th>\n",
       "    </tr>\n",
       "  </thead>\n",
       "  <tbody>\n",
       "    <tr>\n",
       "      <th>0</th>\n",
       "      <td>Clean &amp; quiet apt home by the park</td>\n",
       "      <td>unconfirmed</td>\n",
       "      <td>Madaline</td>\n",
       "      <td>Brooklyn</td>\n",
       "      <td>Kensington</td>\n",
       "      <td>40.64749</td>\n",
       "      <td>-73.97237</td>\n",
       "      <td>United States</td>\n",
       "      <td>US</td>\n",
       "      <td>False</td>\n",
       "      <td>strict</td>\n",
       "      <td>Private room</td>\n",
       "      <td>2020.0</td>\n",
       "      <td>966.0</td>\n",
       "      <td>193.0</td>\n",
       "      <td>10.0</td>\n",
       "      <td>9.0</td>\n",
       "      <td>2021-10-19</td>\n",
       "      <td>0.21</td>\n",
       "      <td>4.0</td>\n",
       "      <td>6.0</td>\n",
       "      <td>286.0</td>\n",
       "    </tr>\n",
       "    <tr>\n",
       "      <th>1</th>\n",
       "      <td>Skylit Midtown Castle</td>\n",
       "      <td>verified</td>\n",
       "      <td>Jenna</td>\n",
       "      <td>Manhattan</td>\n",
       "      <td>Midtown</td>\n",
       "      <td>40.75362</td>\n",
       "      <td>-73.98377</td>\n",
       "      <td>United States</td>\n",
       "      <td>US</td>\n",
       "      <td>False</td>\n",
       "      <td>moderate</td>\n",
       "      <td>Entire home/apt</td>\n",
       "      <td>2007.0</td>\n",
       "      <td>142.0</td>\n",
       "      <td>28.0</td>\n",
       "      <td>30.0</td>\n",
       "      <td>45.0</td>\n",
       "      <td>2022-05-21</td>\n",
       "      <td>0.38</td>\n",
       "      <td>4.0</td>\n",
       "      <td>2.0</td>\n",
       "      <td>228.0</td>\n",
       "    </tr>\n",
       "    <tr>\n",
       "      <th>4</th>\n",
       "      <td>Entire Apt: Spacious Studio/Loft by central park</td>\n",
       "      <td>verified</td>\n",
       "      <td>Lyndon</td>\n",
       "      <td>Manhattan</td>\n",
       "      <td>East Harlem</td>\n",
       "      <td>40.79851</td>\n",
       "      <td>-73.94399</td>\n",
       "      <td>United States</td>\n",
       "      <td>US</td>\n",
       "      <td>False</td>\n",
       "      <td>moderate</td>\n",
       "      <td>Entire home/apt</td>\n",
       "      <td>2009.0</td>\n",
       "      <td>204.0</td>\n",
       "      <td>41.0</td>\n",
       "      <td>10.0</td>\n",
       "      <td>9.0</td>\n",
       "      <td>2018-11-19</td>\n",
       "      <td>0.10</td>\n",
       "      <td>3.0</td>\n",
       "      <td>1.0</td>\n",
       "      <td>289.0</td>\n",
       "    </tr>\n",
       "    <tr>\n",
       "      <th>5</th>\n",
       "      <td>Large Cozy 1 BR Apartment In Midtown East</td>\n",
       "      <td>verified</td>\n",
       "      <td>Michelle</td>\n",
       "      <td>Manhattan</td>\n",
       "      <td>Murray Hill</td>\n",
       "      <td>40.74767</td>\n",
       "      <td>-73.97500</td>\n",
       "      <td>United States</td>\n",
       "      <td>US</td>\n",
       "      <td>True</td>\n",
       "      <td>flexible</td>\n",
       "      <td>Entire home/apt</td>\n",
       "      <td>2013.0</td>\n",
       "      <td>577.0</td>\n",
       "      <td>115.0</td>\n",
       "      <td>3.0</td>\n",
       "      <td>74.0</td>\n",
       "      <td>2019-06-22</td>\n",
       "      <td>0.59</td>\n",
       "      <td>3.0</td>\n",
       "      <td>1.0</td>\n",
       "      <td>374.0</td>\n",
       "    </tr>\n",
       "    <tr>\n",
       "      <th>7</th>\n",
       "      <td>BlissArtsSpace!</td>\n",
       "      <td>unconfirmed</td>\n",
       "      <td>Emma</td>\n",
       "      <td>Brooklyn</td>\n",
       "      <td>Bedford-Stuyvesant</td>\n",
       "      <td>40.68688</td>\n",
       "      <td>-73.95596</td>\n",
       "      <td>United States</td>\n",
       "      <td>US</td>\n",
       "      <td>False</td>\n",
       "      <td>moderate</td>\n",
       "      <td>Private room</td>\n",
       "      <td>2009.0</td>\n",
       "      <td>1060.0</td>\n",
       "      <td>212.0</td>\n",
       "      <td>45.0</td>\n",
       "      <td>49.0</td>\n",
       "      <td>2017-10-05</td>\n",
       "      <td>0.40</td>\n",
       "      <td>5.0</td>\n",
       "      <td>1.0</td>\n",
       "      <td>219.0</td>\n",
       "    </tr>\n",
       "    <tr>\n",
       "      <th>...</th>\n",
       "      <td>...</td>\n",
       "      <td>...</td>\n",
       "      <td>...</td>\n",
       "      <td>...</td>\n",
       "      <td>...</td>\n",
       "      <td>...</td>\n",
       "      <td>...</td>\n",
       "      <td>...</td>\n",
       "      <td>...</td>\n",
       "      <td>...</td>\n",
       "      <td>...</td>\n",
       "      <td>...</td>\n",
       "      <td>...</td>\n",
       "      <td>...</td>\n",
       "      <td>...</td>\n",
       "      <td>...</td>\n",
       "      <td>...</td>\n",
       "      <td>...</td>\n",
       "      <td>...</td>\n",
       "      <td>...</td>\n",
       "      <td>...</td>\n",
       "      <td>...</td>\n",
       "    </tr>\n",
       "    <tr>\n",
       "      <th>102029</th>\n",
       "      <td>Cozy room in a 2B with backyard access</td>\n",
       "      <td>unconfirmed</td>\n",
       "      <td>Cristina</td>\n",
       "      <td>Queens</td>\n",
       "      <td>Astoria</td>\n",
       "      <td>40.76987</td>\n",
       "      <td>-73.92679</td>\n",
       "      <td>United States</td>\n",
       "      <td>US</td>\n",
       "      <td>False</td>\n",
       "      <td>flexible</td>\n",
       "      <td>Private room</td>\n",
       "      <td>2018.0</td>\n",
       "      <td>822.0</td>\n",
       "      <td>164.0</td>\n",
       "      <td>1.0</td>\n",
       "      <td>9.0</td>\n",
       "      <td>2019-04-25</td>\n",
       "      <td>0.91</td>\n",
       "      <td>3.0</td>\n",
       "      <td>1.0</td>\n",
       "      <td>0.0</td>\n",
       "    </tr>\n",
       "    <tr>\n",
       "      <th>102030</th>\n",
       "      <td>An East Williamsburg Delight</td>\n",
       "      <td>verified</td>\n",
       "      <td>Petra</td>\n",
       "      <td>Brooklyn</td>\n",
       "      <td>Bedford-Stuyvesant</td>\n",
       "      <td>40.68335</td>\n",
       "      <td>-73.91222</td>\n",
       "      <td>United States</td>\n",
       "      <td>US</td>\n",
       "      <td>True</td>\n",
       "      <td>moderate</td>\n",
       "      <td>Private room</td>\n",
       "      <td>2015.0</td>\n",
       "      <td>455.0</td>\n",
       "      <td>91.0</td>\n",
       "      <td>4.0</td>\n",
       "      <td>36.0</td>\n",
       "      <td>2018-06-27</td>\n",
       "      <td>1.28</td>\n",
       "      <td>1.0</td>\n",
       "      <td>1.0</td>\n",
       "      <td>0.0</td>\n",
       "    </tr>\n",
       "    <tr>\n",
       "      <th>102031</th>\n",
       "      <td>Cozy bedroom in williamsburg</td>\n",
       "      <td>verified</td>\n",
       "      <td>Russell</td>\n",
       "      <td>Brooklyn</td>\n",
       "      <td>Williamsburg</td>\n",
       "      <td>40.70870</td>\n",
       "      <td>-73.96710</td>\n",
       "      <td>United States</td>\n",
       "      <td>US</td>\n",
       "      <td>True</td>\n",
       "      <td>flexible</td>\n",
       "      <td>Private room</td>\n",
       "      <td>2020.0</td>\n",
       "      <td>1078.0</td>\n",
       "      <td>216.0</td>\n",
       "      <td>1.0</td>\n",
       "      <td>58.0</td>\n",
       "      <td>2019-06-10</td>\n",
       "      <td>2.08</td>\n",
       "      <td>5.0</td>\n",
       "      <td>2.0</td>\n",
       "      <td>120.0</td>\n",
       "    </tr>\n",
       "    <tr>\n",
       "      <th>102032</th>\n",
       "      <td>Spacious Room w/ 2 Bed</td>\n",
       "      <td>unconfirmed</td>\n",
       "      <td>Christine</td>\n",
       "      <td>Queens</td>\n",
       "      <td>Bayside</td>\n",
       "      <td>40.75047</td>\n",
       "      <td>-73.75349</td>\n",
       "      <td>United States</td>\n",
       "      <td>US</td>\n",
       "      <td>False</td>\n",
       "      <td>moderate</td>\n",
       "      <td>Private room</td>\n",
       "      <td>2007.0</td>\n",
       "      <td>103.0</td>\n",
       "      <td>21.0</td>\n",
       "      <td>7.0</td>\n",
       "      <td>40.0</td>\n",
       "      <td>2019-06-23</td>\n",
       "      <td>1.51</td>\n",
       "      <td>1.0</td>\n",
       "      <td>5.0</td>\n",
       "      <td>148.0</td>\n",
       "    </tr>\n",
       "    <tr>\n",
       "      <th>102040</th>\n",
       "      <td>Room in Queens, NY, near LGA.</td>\n",
       "      <td>verified</td>\n",
       "      <td>Sonia</td>\n",
       "      <td>Queens</td>\n",
       "      <td>East Elmhurst</td>\n",
       "      <td>40.76245</td>\n",
       "      <td>-73.87938</td>\n",
       "      <td>United States</td>\n",
       "      <td>US</td>\n",
       "      <td>True</td>\n",
       "      <td>strict</td>\n",
       "      <td>Private room</td>\n",
       "      <td>2022.0</td>\n",
       "      <td>982.0</td>\n",
       "      <td>196.0</td>\n",
       "      <td>1.0</td>\n",
       "      <td>239.0</td>\n",
       "      <td>2019-06-29</td>\n",
       "      <td>8.58</td>\n",
       "      <td>2.0</td>\n",
       "      <td>2.0</td>\n",
       "      <td>361.0</td>\n",
       "    </tr>\n",
       "  </tbody>\n",
       "</table>\n",
       "<p>95501 rows × 22 columns</p>\n",
       "</div>"
      ],
      "text/plain": [
       "                                                    NAME  \\\n",
       "0                     Clean & quiet apt home by the park   \n",
       "1                                  Skylit Midtown Castle   \n",
       "4       Entire Apt: Spacious Studio/Loft by central park   \n",
       "5              Large Cozy 1 BR Apartment In Midtown East   \n",
       "7                                        BlissArtsSpace!   \n",
       "...                                                  ...   \n",
       "102029            Cozy room in a 2B with backyard access   \n",
       "102030                      An East Williamsburg Delight   \n",
       "102031                      Cozy bedroom in williamsburg   \n",
       "102032                            Spacious Room w/ 2 Bed   \n",
       "102040                     Room in Queens, NY, near LGA.   \n",
       "\n",
       "       host_identity_verified  host name neighbourhood group  \\\n",
       "0                 unconfirmed   Madaline            Brooklyn   \n",
       "1                    verified      Jenna           Manhattan   \n",
       "4                    verified     Lyndon           Manhattan   \n",
       "5                    verified   Michelle           Manhattan   \n",
       "7                 unconfirmed       Emma            Brooklyn   \n",
       "...                       ...        ...                 ...   \n",
       "102029            unconfirmed   Cristina              Queens   \n",
       "102030               verified      Petra            Brooklyn   \n",
       "102031               verified    Russell            Brooklyn   \n",
       "102032            unconfirmed  Christine              Queens   \n",
       "102040               verified      Sonia              Queens   \n",
       "\n",
       "             neighbourhood       lat      long        country country code  \\\n",
       "0               Kensington  40.64749 -73.97237  United States           US   \n",
       "1                  Midtown  40.75362 -73.98377  United States           US   \n",
       "4              East Harlem  40.79851 -73.94399  United States           US   \n",
       "5              Murray Hill  40.74767 -73.97500  United States           US   \n",
       "7       Bedford-Stuyvesant  40.68688 -73.95596  United States           US   \n",
       "...                    ...       ...       ...            ...          ...   \n",
       "102029             Astoria  40.76987 -73.92679  United States           US   \n",
       "102030  Bedford-Stuyvesant  40.68335 -73.91222  United States           US   \n",
       "102031        Williamsburg  40.70870 -73.96710  United States           US   \n",
       "102032             Bayside  40.75047 -73.75349  United States           US   \n",
       "102040       East Elmhurst  40.76245 -73.87938  United States           US   \n",
       "\n",
       "       instant_bookable cancellation_policy        room type  \\\n",
       "0                 False              strict     Private room   \n",
       "1                 False            moderate  Entire home/apt   \n",
       "4                 False            moderate  Entire home/apt   \n",
       "5                  True            flexible  Entire home/apt   \n",
       "7                 False            moderate     Private room   \n",
       "...                 ...                 ...              ...   \n",
       "102029            False            flexible     Private room   \n",
       "102030             True            moderate     Private room   \n",
       "102031             True            flexible     Private room   \n",
       "102032            False            moderate     Private room   \n",
       "102040             True              strict     Private room   \n",
       "\n",
       "        Construction year   price  service fee  minimum nights  \\\n",
       "0                  2020.0   966.0        193.0            10.0   \n",
       "1                  2007.0   142.0         28.0            30.0   \n",
       "4                  2009.0   204.0         41.0            10.0   \n",
       "5                  2013.0   577.0        115.0             3.0   \n",
       "7                  2009.0  1060.0        212.0            45.0   \n",
       "...                   ...     ...          ...             ...   \n",
       "102029             2018.0   822.0        164.0             1.0   \n",
       "102030             2015.0   455.0         91.0             4.0   \n",
       "102031             2020.0  1078.0        216.0             1.0   \n",
       "102032             2007.0   103.0         21.0             7.0   \n",
       "102040             2022.0   982.0        196.0             1.0   \n",
       "\n",
       "        number of reviews last review  reviews per month  review rate number  \\\n",
       "0                     9.0  2021-10-19               0.21                 4.0   \n",
       "1                    45.0  2022-05-21               0.38                 4.0   \n",
       "4                     9.0  2018-11-19               0.10                 3.0   \n",
       "5                    74.0  2019-06-22               0.59                 3.0   \n",
       "7                    49.0  2017-10-05               0.40                 5.0   \n",
       "...                   ...         ...                ...                 ...   \n",
       "102029                9.0  2019-04-25               0.91                 3.0   \n",
       "102030               36.0  2018-06-27               1.28                 1.0   \n",
       "102031               58.0  2019-06-10               2.08                 5.0   \n",
       "102032               40.0  2019-06-23               1.51                 1.0   \n",
       "102040              239.0  2019-06-29               8.58                 2.0   \n",
       "\n",
       "        total host listing  availability 365  \n",
       "0                      6.0             286.0  \n",
       "1                      2.0             228.0  \n",
       "4                      1.0             289.0  \n",
       "5                      1.0             374.0  \n",
       "7                      1.0             219.0  \n",
       "...                    ...               ...  \n",
       "102029                 1.0               0.0  \n",
       "102030                 1.0               0.0  \n",
       "102031                 2.0             120.0  \n",
       "102032                 5.0             148.0  \n",
       "102040                 2.0             361.0  \n",
       "\n",
       "[95501 rows x 22 columns]"
      ]
     },
     "execution_count": 447,
     "metadata": {},
     "output_type": "execute_result"
    }
   ],
   "source": [
    "cleanedAirBnb = cleanedAirBnb.rename(columns={'calculated host listings count':\"total host listing\",})\n",
    "cleanedAirBnb"
   ]
  },
  {
   "cell_type": "code",
   "execution_count": 448,
   "metadata": {},
   "outputs": [
    {
     "data": {
      "image/png": "[encoded data removed]",
      "text/plain": [
       "<Figure size 640x480 with 1 Axes>"
      ]
     },
     "metadata": {},
     "output_type": "display_data"
    }
   ],
   "source": [
    "# Histogram for single numerical variable(column)\n",
    "plt.hist(cleanedAirBnb['total host listing'])\n",
    "plt.title('total host listing')\n",
    "plt.xlabel('Host Listing Count')\n",
    "plt.ylabel('Frequency')\n",
    "plt.show()\n"
   ]
  },
  {
   "cell_type": "markdown",
   "metadata": {},
   "source": [
    "From the graph we have an unbalanced distribution of Host listing. Meaning that most host list properties between 0 to 30 or 35."
   ]
  },
  {
   "cell_type": "code",
   "execution_count": 449,
   "metadata": {},
   "outputs": [
    {
     "data": {
      "image/png": "[encoded data removed]",
      "text/plain": [
       "<Figure size 640x480 with 1 Axes>"
      ]
     },
     "metadata": {},
     "output_type": "display_data"
    }
   ],
   "source": [
    "# Histogram for single numerical variable(column)\n",
    "plt.hist(cleanedAirBnb['review rate number'])\n",
    "plt.title('Review Rate Number Distribution')\n",
    "plt.xlabel('Review Rate')\n",
    "plt.ylabel('Frequency')\n",
    "plt.show()\n"
   ]
  },
  {
   "cell_type": "code",
   "execution_count": 450,
   "metadata": {},
   "outputs": [
    {
     "data": {
      "text/plain": [
       "array(['United States'], dtype=object)"
      ]
     },
     "execution_count": 450,
     "metadata": {},
     "output_type": "execute_result"
    }
   ],
   "source": [
    "cleanedAirBnb['country'].unique()"
   ]
  },
  {
   "cell_type": "markdown",
   "metadata": {},
   "source": [
    "**Insight** United States is the only unique value in country and country code. "
   ]
  },
  {
   "cell_type": "code",
   "execution_count": 451,
   "metadata": {},
   "outputs": [
    {
     "data": {
      "text/plain": [
       "array([ 1.000e+01,  3.000e+01,  3.000e+00,  4.500e+01,  2.000e+00,\n",
       "        1.000e+00,  5.000e+00,  4.000e+00,  7.000e+00,  8.000e+00,\n",
       "        1.500e+01,  4.700e+01,  8.100e+01,  1.440e+02,  3.710e+02,\n",
       "        2.680e+02, -1.000e+01,  1.890e+02,  3.400e+02,  1.280e+02,\n",
       "        3.500e+02,  1.660e+02,  1.100e+02,  1.420e+02,  1.400e+01,\n",
       "        2.000e+02,  1.100e+01,  4.520e+02,  1.300e+01,  6.000e+00,\n",
       "        2.100e+01,  2.700e+01,  1.800e+01, -1.000e+00, -1.200e+01,\n",
       "        4.000e+01,  3.100e+01,  3.980e+02, -2.000e+00,  2.800e+01,\n",
       "        6.500e+01, -3.000e+00,  9.000e+01,  1.200e+02,  3.650e+02,\n",
       "        1.800e+02,  1.220e+02,  1.900e+01,  2.400e+02,  2.900e+01,\n",
       "        2.000e+01,  8.800e+01,  1.150e+02,  1.500e+02,  9.000e+00,\n",
       "        3.700e+02,  6.000e+01,  1.600e+01,  1.810e+02,  2.600e+01,\n",
       "        8.000e+01,  2.500e+01,  2.650e+02,  3.000e+02,  1.700e+01,\n",
       "        5.900e+01,  1.850e+02,  3.600e+02,  5.600e+01,  5.000e+01,\n",
       "        1.200e+01,  7.000e+01,  3.900e+01,  2.400e+01,  3.200e+01,\n",
       "        2.700e+02,  2.200e+01,  7.500e+01,  2.500e+02,  6.200e+01,\n",
       "        2.300e+01,  1.250e+03,  7.400e+01,  1.980e+02,  1.000e+02,\n",
       "        5.000e+02,  4.300e+01,  3.500e+01,  9.100e+01,  4.800e+02,\n",
       "        5.300e+01,  9.900e+01,  5.500e+01,  1.600e+02,  9.990e+02,\n",
       "        1.860e+02,  3.660e+02,  6.800e+01,  9.300e+01,  8.700e+01,\n",
       "        1.830e+02,  2.990e+02,  1.750e+02,  9.800e+01,  1.330e+02,\n",
       "        3.540e+02,  4.200e+01,  3.300e+01,  3.700e+01,  2.250e+02,\n",
       "        4.000e+02,  1.050e+02,  1.840e+02,  1.530e+02,  1.340e+02,\n",
       "        2.220e+02,  5.800e+01,  2.100e+02,  2.750e+02,  1.820e+02,\n",
       "        4.400e+01,  9.540e+02,  5.645e+03,  2.645e+03, -1.223e+03,\n",
       "       -3.650e+02, -2.000e+02,  1.140e+02,  8.500e+01,  3.600e+01,\n",
       "        4.800e+01,  1.550e+02,  3.070e+02,  1.290e+02,  1.450e+02,\n",
       "        6.400e+01,  3.640e+02,  3.330e+02,  1.190e+02, -1.250e+02,\n",
       "        1.250e+02,  3.400e+01,  4.580e+02,  8.250e+02])"
      ]
     },
     "execution_count": 451,
     "metadata": {},
     "output_type": "execute_result"
    }
   ],
   "source": [
    "cleanedAirBnb['minimum nights'].unique()"
   ]
  },
  {
   "cell_type": "markdown",
   "metadata": {},
   "source": [
    "*Insight* Number of minimum nights cannot be negative."
   ]
  },
  {
   "cell_type": "code",
   "execution_count": 452,
   "metadata": {},
   "outputs": [],
   "source": [
    "cleanedAirBnb['minimum nights'] = abs(cleanedAirBnb['minimum nights']) # converting them to positive"
   ]
  },
  {
   "cell_type": "code",
   "execution_count": 453,
   "metadata": {},
   "outputs": [
    {
     "data": {
      "text/plain": [
       "array([ 2.860e+02,  2.280e+02,  2.890e+02,  3.740e+02,  2.190e+02,\n",
       "        1.800e+02,  3.750e+02,  1.000e+00,  1.630e+02,  4.700e+01,\n",
       "        6.800e+01,  2.140e+02,  3.560e+02,  3.540e+02,  3.300e+01,\n",
       "        8.600e+01,  8.300e+01,  2.580e+02,  4.000e+02,  3.400e+01,\n",
       "        2.030e+02,  3.500e+01,  4.100e+02,  3.880e+02,  1.300e+01,\n",
       "        6.200e+01,  3.340e+02,  1.660e+02,  1.800e+01,  1.300e+02,\n",
       "        4.300e+01,  3.730e+02,  1.900e+02,  3.350e+02,  5.200e+01,\n",
       "        7.000e+01,  3.200e+02,  1.900e+01,  2.930e+02,  5.800e+01,\n",
       "        2.400e+02,  9.600e+01,  3.000e+02,  4.250e+02,  3.610e+02,\n",
       "        3.410e+02,  3.530e+02,  2.130e+02,  1.370e+02,  3.360e+02,\n",
       "        2.300e+01,  3.950e+02,  7.800e+01,  1.880e+02,  3.380e+02,\n",
       "        6.600e+01,  3.220e+02,  8.000e+01,  1.460e+02,  3.820e+02,\n",
       "        0.000e+00,  3.190e+02,  5.000e+01,  1.180e+02,  1.450e+02,\n",
       "        2.670e+02,  3.500e+02,  4.070e+02,  7.600e+01,  1.600e+01,\n",
       "        3.510e+02,  3.970e+02,  2.760e+02,  3.980e+02,  1.350e+02,\n",
       "        3.150e+02,  1.050e+02,  8.700e+01,  1.890e+02,  8.100e+01,\n",
       "        4.200e+01,  1.770e+02,  2.450e+02,  3.860e+02,  2.470e+02,\n",
       "        3.940e+02,  1.790e+02,  3.120e+02,  1.410e+02,  4.190e+02,\n",
       "        2.560e+02,  3.800e+02,  2.700e+02,  4.500e+01,  1.760e+02,\n",
       "        3.790e+02,  2.100e+02,  2.640e+02,  4.020e+02,  5.300e+01,\n",
       "        2.520e+02,  8.200e+01,  5.000e+00,  3.620e+02,  2.380e+02,\n",
       "        3.180e+02,  2.800e+02,  1.400e+02,  1.070e+02,  1.310e+02,\n",
       "        1.170e+02,  8.400e+01,  2.910e+02,  1.320e+02,  3.270e+02,\n",
       "        3.250e+02,  3.310e+02,  3.780e+02,  2.830e+02,  1.140e+02,\n",
       "        7.700e+01,  3.760e+02,  2.110e+02,  1.120e+02,  2.960e+02,\n",
       "        1.930e+02,  1.000e+02,  2.480e+02,  2.310e+02,  3.990e+02,\n",
       "        1.820e+02,  3.810e+02,  2.530e+02,  1.910e+02,  4.140e+02,\n",
       "       -9.000e+00,  9.000e+00,  3.450e+02,  1.860e+02,  1.870e+02,\n",
       "        2.680e+02,  2.090e+02,  8.800e+01,  4.200e+02,  3.690e+02,\n",
       "        2.920e+02,  1.710e+02, -4.000e+00,  3.010e+02,  1.290e+02,\n",
       "        3.130e+02,  3.000e+01,  9.700e+01,  9.500e+01,  1.240e+02,\n",
       "        2.360e+02,  8.500e+01,  7.500e+01, -8.000e+00,  1.380e+02,\n",
       "        2.510e+02,  3.240e+02,  9.300e+01,  1.030e+02,  9.100e+01,\n",
       "        2.590e+02,  3.840e+02,  1.620e+02,  1.220e+02,  4.110e+02,\n",
       "        7.000e+00,  2.900e+01,  2.650e+02,  3.920e+02,  1.750e+02,\n",
       "        3.030e+02,  2.330e+02, -6.000e+00,  6.900e+01,  1.190e+02,\n",
       "        3.670e+02,  2.390e+02,  3.600e+01,  1.490e+02,  3.900e+01,\n",
       "        3.870e+02,  3.210e+02,  3.020e+02,  3.000e+00,  1.830e+02,\n",
       "        8.000e+00,  2.970e+02,  3.200e+01,  6.700e+01,  4.120e+02,\n",
       "        1.090e+02,  3.640e+02,  2.500e+02,  3.720e+02, -2.000e+00,\n",
       "        4.180e+02,  2.300e+02,  3.650e+02,  1.670e+02,  1.780e+02,\n",
       "        1.400e+01,  3.700e+02,  3.550e+02,  2.540e+02,  3.960e+02,\n",
       "        7.300e+01,  3.330e+02,  4.040e+02,  2.600e+01,  4.050e+02,\n",
       "        6.400e+01,  1.810e+02,  2.460e+02,  2.610e+02,  9.200e+01,\n",
       "        1.420e+02,  2.720e+02,  1.000e+01,  2.120e+02,  3.390e+02,\n",
       "        2.800e+01,  3.090e+02,  1.740e+02,  2.320e+02,  1.330e+02,\n",
       "        1.700e+01,  2.870e+02,  3.490e+02,  2.630e+02,  2.700e+01,\n",
       "        1.060e+02,  3.160e+02,  1.080e+02,  1.680e+02,  2.780e+02,\n",
       "        1.250e+02,  5.700e+01,  2.660e+02,  2.260e+02,  1.390e+02,\n",
       "        1.730e+02,  2.250e+02,  2.050e+02, -5.000e+00,  1.690e+02,\n",
       "        2.810e+02,  2.440e+02,  5.600e+01,  2.500e+01,  1.640e+02,\n",
       "        2.790e+02,  2.010e+02,  1.100e+01,  1.160e+02,  3.320e+02,\n",
       "        1.950e+02,  1.150e+02,  2.740e+02,  2.150e+02,  1.340e+02,\n",
       "        3.110e+02,  6.000e+00,  1.940e+02,  6.100e+01,  2.940e+02,\n",
       "        1.110e+02,  2.170e+02,  4.220e+02,  1.960e+02,  2.200e+02,\n",
       "        2.180e+02,  3.930e+02,  1.550e+02,  1.500e+01,  6.500e+01,\n",
       "        1.580e+02,  3.300e+02,  7.900e+01,  4.210e+02,  1.850e+02,\n",
       "        4.080e+02,  1.560e+02,  2.950e+02,  9.000e+01,  2.000e+00,\n",
       "        2.750e+02,  3.470e+02,  1.920e+02,  3.480e+02,  2.070e+02,\n",
       "        3.140e+02,  3.100e+02,  4.000e+00,  9.800e+01,  1.540e+02,\n",
       "        1.600e+02,  1.130e+02,  3.100e+01,  4.400e+01,  1.430e+02,\n",
       "        2.990e+02,  4.130e+02,  2.820e+02,  2.900e+02,  3.230e+02,\n",
       "        2.210e+02,  2.550e+02,  4.060e+02,  3.800e+01,  5.500e+01,\n",
       "        2.020e+02,  7.200e+01,  2.770e+02, -1.000e+00,  2.100e+01,\n",
       "        1.650e+02,  1.440e+02,  7.400e+01,  2.220e+02,  1.500e+02,\n",
       "        4.090e+02,  3.680e+02,  1.200e+01,  3.520e+02,  6.000e+01,\n",
       "        1.700e+02,  2.410e+02,  3.280e+02,  4.100e+01,  8.900e+01,\n",
       "        1.280e+02,  1.210e+02,  3.370e+02,  2.230e+02,  1.970e+02,\n",
       "        1.980e+02,  3.570e+02,  4.230e+02,  3.580e+02,  5.900e+01,\n",
       "        1.230e+02,  2.290e+02,  2.060e+02, -3.000e+00,  1.470e+02,\n",
       "        3.850e+02,  3.050e+02,  2.370e+02,  2.240e+02,  2.000e+01,\n",
       "        2.600e+02,  2.400e+01,  1.040e+02,  3.070e+02,  1.590e+02,\n",
       "        3.590e+02,  2.200e+01,  7.100e+01,  9.900e+01,  2.340e+02,\n",
       "        2.710e+02,  4.600e+01,  3.260e+02,  1.100e+02,  2.570e+02,\n",
       "        2.270e+02,  3.400e+02,  2.850e+02,  3.060e+02,  2.350e+02,\n",
       "        2.730e+02,  5.100e+01,  3.770e+02,  1.840e+02,  2.080e+02,\n",
       "        2.840e+02,  1.360e+02,  2.000e+02,  3.910e+02,  4.160e+02,\n",
       "        4.900e+01,  1.510e+02,  1.270e+02,  2.430e+02,  3.430e+02,\n",
       "        3.080e+02,  1.480e+02,  6.300e+01,  4.010e+02,  9.400e+01,\n",
       "        3.170e+02,  3.040e+02,  1.010e+02,  2.040e+02,  4.260e+02,\n",
       "        1.610e+02,  3.600e+02,  3.700e+01,  3.660e+02,  2.420e+02,\n",
       "        2.980e+02,  2.160e+02,  4.000e+01,  3.630e+02,  3.440e+02,\n",
       "        4.030e+02,  3.290e+02,  1.530e+02,  1.570e+02,  3.420e+02,\n",
       "        2.620e+02,  3.830e+02,  3.890e+02,  3.900e+02,  1.720e+02,\n",
       "        4.170e+02,  3.460e+02,  1.020e+02, -1.000e+01,  5.400e+01,\n",
       "        4.800e+01,  1.990e+02,  3.710e+02,  2.690e+02,  2.490e+02,\n",
       "        4.240e+02,  1.260e+02,  1.200e+02,  2.880e+02, -7.000e+00,\n",
       "        4.150e+02,  1.520e+02,  3.677e+03])"
      ]
     },
     "execution_count": 453,
     "metadata": {},
     "output_type": "execute_result"
    }
   ],
   "source": [
    "cleanedAirBnb['availability 365'].unique()"
   ]
  },
  {
   "cell_type": "code",
   "execution_count": 454,
   "metadata": {},
   "outputs": [],
   "source": [
    "cleanedAirBnb['availability 365'] = abs(cleanedAirBnb['availability 365'])"
   ]
  },
  {
   "cell_type": "markdown",
   "metadata": {},
   "source": [
    "**Insight** Availability 365 is now cleaned having removed the negative values"
   ]
  },
  {
   "cell_type": "code",
   "execution_count": 455,
   "metadata": {},
   "outputs": [],
   "source": [
    "cleanedAirBnb.rename(columns={'review rate number':'rating'},inplace=True)"
   ]
  },
  {
   "cell_type": "code",
   "execution_count": 456,
   "metadata": {},
   "outputs": [
    {
     "data": {
      "text/plain": [
       "array(['Brooklyn', 'Manhattan', 'brookln', 'Queens', 'Bronx',\n",
       "       'Staten Island'], dtype=object)"
      ]
     },
     "execution_count": 456,
     "metadata": {},
     "output_type": "execute_result"
    }
   ],
   "source": [
    "cleanedAirBnb['neighbourhood group'].unique()"
   ]
  },
  {
   "cell_type": "code",
   "execution_count": 457,
   "metadata": {},
   "outputs": [
    {
     "data": {
      "text/plain": [
       "array(['Kensington', 'Midtown', 'East Harlem', 'Murray Hill',\n",
       "       'Bedford-Stuyvesant', \"Hell's Kitchen\", 'Upper West Side',\n",
       "       'Chinatown', 'South Slope', 'Bushwick', 'Flatbush', 'East Village',\n",
       "       'Williamsburg', 'Harlem', 'Gowanus', 'Clinton Hill', 'Greenpoint',\n",
       "       'Flatlands', 'Fort Greene', 'West Village', 'Prospect Heights',\n",
       "       'DUMBO', 'Upper East Side', 'Financial District', 'Ridgewood',\n",
       "       'Morningside Heights', 'Park Slope', 'Ditmars Steinway',\n",
       "       'Cobble Hill', 'Flatiron District', 'Windsor Terrace',\n",
       "       'Roosevelt Island', 'Lower East Side', 'Chelsea',\n",
       "       'Carroll Gardens', 'Little Italy', 'Inwood', 'Kingsbridge',\n",
       "       'Astoria', 'Boerum Hill', 'Washington Heights', 'Rockaway Beach',\n",
       "       'Crown Heights', 'Nolita', 'Woodlawn', 'Sunnyside', 'Gramercy',\n",
       "       'East New York', 'Prospect-Lefferts Gardens', 'Concourse Village',\n",
       "       'Sheepshead Bay', 'Theater District', 'Emerson Hill',\n",
       "       'Long Island City', 'Fort Hamilton', 'Bensonhurst', 'Sunset Park',\n",
       "       'Concourse', 'SoHo', 'Kips Bay', 'Greenwich Village',\n",
       "       'Brighton Beach', 'St. Albans', 'Arrochar', 'East Flatbush',\n",
       "       'Cypress Hills', 'Rego Park', 'Wakefield', 'Woodside', 'Clifton',\n",
       "       'Bay Ridge', 'Graniteville', 'Spuyten Duyvil', 'Stapleton',\n",
       "       'Briarwood', 'Ozone Park', 'Columbia St', 'Vinegar Hill',\n",
       "       'Mott Haven', 'Jackson Heights', 'Longwood', 'Canarsie', 'Jamaica',\n",
       "       'Battery Park City', 'Tribeca', 'Two Bridges', 'Civic Center',\n",
       "       'East Elmhurst', 'Allerton', 'New Springville', 'Morris Heights',\n",
       "       'Brooklyn Heights', 'Flushing', 'Arverne', 'Gravesend', 'Elmhurst',\n",
       "       'Cambria Heights', 'Tottenville', 'Tompkinsville', 'NoHo',\n",
       "       'Mariners Harbor', 'Concord', 'Borough Park', 'Bayside',\n",
       "       'Downtown Brooklyn', 'Port Morris', 'Fieldston', 'Kew Gardens',\n",
       "       'Midwood', 'College Point', 'Mount Eden', 'City Island',\n",
       "       'Glendale', 'Port Richmond', 'Red Hook', 'Richmond Hill',\n",
       "       'St. George', 'Queens Village', 'Bellerose', 'Maspeth',\n",
       "       'Shore Acres', 'Williamsbridge', 'Soundview', 'Woodhaven',\n",
       "       'Forest Hills', 'Woodrow', 'Co-op City', 'Stuyvesant Town',\n",
       "       'Parkchester', 'Middle Village', 'North Riverdale',\n",
       "       'Dyker Heights', 'Bronxdale', 'Sea Gate', 'Riverdale',\n",
       "       'Kew Gardens Hills', 'Bay Terrace', 'Norwood', 'Claremont Village',\n",
       "       'Whitestone', 'Fordham', 'University Heights', 'Bayswater',\n",
       "       'Navy Yard', 'Brownsville', 'Eltingville', 'Fresh Meadows',\n",
       "       'Mount Hope', 'Clason Point', 'Lighthouse Hill',\n",
       "       'Springfield Gardens', 'Eastchester', 'Howard Beach',\n",
       "       'Belle Harbor', 'Van Nest', 'Highbridge', 'Morris Park',\n",
       "       'West Brighton', 'Far Rockaway', 'South Ozone Park', 'Tremont',\n",
       "       'Corona', 'Great Kills', 'Jamaica Estates', 'Manhattan Beach',\n",
       "       'Marble Hill', 'Dongan Hills', 'Castleton Corners',\n",
       "       'East Morrisania', 'Hunts Point', 'Neponsit', 'Pelham Bay',\n",
       "       'Randall Manor', 'Throgs Neck', 'Todt Hill', 'West Farms',\n",
       "       'Silver Lake', 'Morrisania', 'Laurelton', 'Grymes Hill',\n",
       "       'Pelham Gardens', 'Belmont', 'Rosedale', 'Edgemere',\n",
       "       'New Brighton', 'Midland Beach', 'Baychester', 'Melrose',\n",
       "       'Bergen Beach', 'Richmondtown', 'Howland Hook', 'Schuylerville',\n",
       "       'Coney Island', 'New Dorp Beach', \"Prince's Bay\", 'South Beach',\n",
       "       'Holliswood', 'Bath Beach', 'Jamaica Hills', 'Oakwood',\n",
       "       'Castle Hill', 'Hollis', 'Douglaston', 'Huguenot', 'Olinville',\n",
       "       'Edenwald', 'Grant City', 'Westerleigh',\n",
       "       'Bay Terrace, Staten Island', 'Westchester Square', 'Little Neck',\n",
       "       'Fort Wadsworth', 'Rosebank', 'Unionport', 'Mill Basin',\n",
       "       'Arden Heights', \"Bull's Head\", 'New Dorp', 'Rossville',\n",
       "       'Breezy Point', 'Willowbrook', 'Glen Oaks', 'Gerritsen Beach',\n",
       "       'Chelsea, Staten Island'], dtype=object)"
      ]
     },
     "execution_count": 457,
     "metadata": {},
     "output_type": "execute_result"
    }
   ],
   "source": [
    "cleanedAirBnb['neighbourhood'].unique()"
   ]
  },
  {
   "cell_type": "markdown",
   "metadata": {},
   "source": [
    "*Insight* We will be dropping one of the neighborhood columns, since both are telling us about the location of the listing"
   ]
  },
  {
   "cell_type": "code",
   "execution_count": 458,
   "metadata": {},
   "outputs": [],
   "source": [
    "# renaming the neighbourhood group\n",
    "cleanedAirBnb.rename(columns={'neighbourhood group':'neighborhood_group', 'neighbourhood':'neighborhood'}, inplace=True)"
   ]
  },
  {
   "cell_type": "code",
   "execution_count": 459,
   "metadata": {},
   "outputs": [],
   "source": [
    "cleanedAirBnb.drop(columns=['neighborhood'], inplace=True)"
   ]
  },
  {
   "cell_type": "code",
   "execution_count": 460,
   "metadata": {},
   "outputs": [
    {
     "data": {
      "text/plain": [
       "array(['unconfirmed', 'verified'], dtype=object)"
      ]
     },
     "execution_count": 460,
     "metadata": {},
     "output_type": "execute_result"
    }
   ],
   "source": [
    "cleanedAirBnb['host_identity_verified'].unique()"
   ]
  },
  {
   "cell_type": "markdown",
   "metadata": {},
   "source": [
    "**Insight** The host identity verified is clean"
   ]
  },
  {
   "cell_type": "code",
   "execution_count": 461,
   "metadata": {},
   "outputs": [
    {
     "data": {
      "text/plain": [
       "array(['Private room', 'Entire home/apt', 'Shared room', 'Hotel room'],\n",
       "      dtype=object)"
      ]
     },
     "execution_count": 461,
     "metadata": {},
     "output_type": "execute_result"
    }
   ],
   "source": [
    "cleanedAirBnb['room type'].unique()"
   ]
  },
  {
   "cell_type": "markdown",
   "metadata": {},
   "source": [
    "Perform Bivariate EDA"
   ]
  },
  {
   "cell_type": "code",
   "execution_count": 462,
   "metadata": {},
   "outputs": [
    {
     "data": {
      "text/html": [
       "<div>\n",
       "<style scoped>\n",
       "    .dataframe tbody tr th:only-of-type {\n",
       "        vertical-align: middle;\n",
       "    }\n",
       "\n",
       "    .dataframe tbody tr th {\n",
       "        vertical-align: top;\n",
       "    }\n",
       "\n",
       "    .dataframe thead th {\n",
       "        text-align: right;\n",
       "    }\n",
       "</style>\n",
       "<table border=\"1\" class=\"dataframe\">\n",
       "  <thead>\n",
       "    <tr style=\"text-align: right;\">\n",
       "      <th></th>\n",
       "      <th>price</th>\n",
       "      <th>service fee</th>\n",
       "      <th>minimum nights</th>\n",
       "      <th>number of reviews</th>\n",
       "      <th>reviews per month</th>\n",
       "      <th>rating</th>\n",
       "      <th>total host listing</th>\n",
       "      <th>availability 365</th>\n",
       "    </tr>\n",
       "  </thead>\n",
       "  <tbody>\n",
       "    <tr>\n",
       "      <th>price</th>\n",
       "      <td>1.000000</td>\n",
       "      <td>0.999991</td>\n",
       "      <td>-0.003227</td>\n",
       "      <td>0.004789</td>\n",
       "      <td>0.004392</td>\n",
       "      <td>-0.005112</td>\n",
       "      <td>-0.000648</td>\n",
       "      <td>-0.003203</td>\n",
       "    </tr>\n",
       "    <tr>\n",
       "      <th>service fee</th>\n",
       "      <td>0.999991</td>\n",
       "      <td>1.000000</td>\n",
       "      <td>-0.003205</td>\n",
       "      <td>0.004768</td>\n",
       "      <td>0.004370</td>\n",
       "      <td>-0.005117</td>\n",
       "      <td>-0.000640</td>\n",
       "      <td>-0.003192</td>\n",
       "    </tr>\n",
       "    <tr>\n",
       "      <th>minimum nights</th>\n",
       "      <td>-0.003227</td>\n",
       "      <td>-0.003205</td>\n",
       "      <td>1.000000</td>\n",
       "      <td>-0.053998</td>\n",
       "      <td>-0.089126</td>\n",
       "      <td>-0.001275</td>\n",
       "      <td>0.091020</td>\n",
       "      <td>0.062392</td>\n",
       "    </tr>\n",
       "    <tr>\n",
       "      <th>number of reviews</th>\n",
       "      <td>0.004789</td>\n",
       "      <td>0.004768</td>\n",
       "      <td>-0.053998</td>\n",
       "      <td>1.000000</td>\n",
       "      <td>0.590660</td>\n",
       "      <td>-0.016995</td>\n",
       "      <td>-0.081077</td>\n",
       "      <td>0.098134</td>\n",
       "    </tr>\n",
       "    <tr>\n",
       "      <th>reviews per month</th>\n",
       "      <td>0.004392</td>\n",
       "      <td>0.004370</td>\n",
       "      <td>-0.089126</td>\n",
       "      <td>0.590660</td>\n",
       "      <td>1.000000</td>\n",
       "      <td>0.035576</td>\n",
       "      <td>-0.027252</td>\n",
       "      <td>0.070805</td>\n",
       "    </tr>\n",
       "    <tr>\n",
       "      <th>rating</th>\n",
       "      <td>-0.005112</td>\n",
       "      <td>-0.005117</td>\n",
       "      <td>-0.001275</td>\n",
       "      <td>-0.016995</td>\n",
       "      <td>0.035576</td>\n",
       "      <td>1.000000</td>\n",
       "      <td>0.024201</td>\n",
       "      <td>-0.007473</td>\n",
       "    </tr>\n",
       "    <tr>\n",
       "      <th>total host listing</th>\n",
       "      <td>-0.000648</td>\n",
       "      <td>-0.000640</td>\n",
       "      <td>0.091020</td>\n",
       "      <td>-0.081077</td>\n",
       "      <td>-0.027252</td>\n",
       "      <td>0.024201</td>\n",
       "      <td>1.000000</td>\n",
       "      <td>0.158406</td>\n",
       "    </tr>\n",
       "    <tr>\n",
       "      <th>availability 365</th>\n",
       "      <td>-0.003203</td>\n",
       "      <td>-0.003192</td>\n",
       "      <td>0.062392</td>\n",
       "      <td>0.098134</td>\n",
       "      <td>0.070805</td>\n",
       "      <td>-0.007473</td>\n",
       "      <td>0.158406</td>\n",
       "      <td>1.000000</td>\n",
       "    </tr>\n",
       "  </tbody>\n",
       "</table>\n",
       "</div>"
      ],
      "text/plain": [
       "                       price  service fee  minimum nights  number of reviews  \\\n",
       "price               1.000000     0.999991       -0.003227           0.004789   \n",
       "service fee         0.999991     1.000000       -0.003205           0.004768   \n",
       "minimum nights     -0.003227    -0.003205        1.000000          -0.053998   \n",
       "number of reviews   0.004789     0.004768       -0.053998           1.000000   \n",
       "reviews per month   0.004392     0.004370       -0.089126           0.590660   \n",
       "rating             -0.005112    -0.005117       -0.001275          -0.016995   \n",
       "total host listing -0.000648    -0.000640        0.091020          -0.081077   \n",
       "availability 365   -0.003203    -0.003192        0.062392           0.098134   \n",
       "\n",
       "                    reviews per month    rating  total host listing  \\\n",
       "price                        0.004392 -0.005112           -0.000648   \n",
       "service fee                  0.004370 -0.005117           -0.000640   \n",
       "minimum nights              -0.089126 -0.001275            0.091020   \n",
       "number of reviews            0.590660 -0.016995           -0.081077   \n",
       "reviews per month            1.000000  0.035576           -0.027252   \n",
       "rating                       0.035576  1.000000            0.024201   \n",
       "total host listing          -0.027252  0.024201            1.000000   \n",
       "availability 365             0.070805 -0.007473            0.158406   \n",
       "\n",
       "                    availability 365  \n",
       "price                      -0.003203  \n",
       "service fee                -0.003192  \n",
       "minimum nights              0.062392  \n",
       "number of reviews           0.098134  \n",
       "reviews per month           0.070805  \n",
       "rating                     -0.007473  \n",
       "total host listing          0.158406  \n",
       "availability 365            1.000000  "
      ]
     },
     "execution_count": 462,
     "metadata": {},
     "output_type": "execute_result"
    }
   ],
   "source": [
    "# checking for correlation\n",
    "corr_matrix = cleanedAirBnb[['price', 'service fee', 'minimum nights', 'number of reviews', 'reviews per month', 'rating', 'total host listing', 'availability 365']].corr()\n",
    "corr_matrix"
   ]
  },
  {
   "cell_type": "markdown",
   "metadata": {},
   "source": [
    "Data visualization"
   ]
  },
  {
   "cell_type": "code",
   "execution_count": 463,
   "metadata": {},
   "outputs": [
    {
     "data": {
      "image/png": "[encoded data removed]",
      "text/plain": [
       "<Figure size 1000x800 with 2 Axes>"
      ]
     },
     "metadata": {},
     "output_type": "display_data"
    }
   ],
   "source": [
    "# Correlation Heatmap\n",
    "plt.figure(figsize=(10, 8))\n",
    "heatmap = sns.heatmap(corr_matrix, annot=True, cmap='coolwarm', center=0)\n",
    "heatmap.set_title('AirBnB Correlation Heatmap', fontdict={'fontsize':18}, pad=16)\n",
    "plt.show()"
   ]
  },
  {
   "cell_type": "markdown",
   "metadata": {},
   "source": [
    "**Insight** From the heatmap we can see that there is a strong correlation between price and service fee, and a weak correlation  number of reviews and review per month. showing an increase in one will lead to an increase in the other.\n",
    "\n",
    "To that we will be dropping the correlated columns *service fee and reviews per month*"
   ]
  },
  {
   "cell_type": "code",
   "execution_count": 464,
   "metadata": {},
   "outputs": [],
   "source": [
    "cleanedAirBnb.drop(columns=['service fee', 'reviews per month'], inplace=True)"
   ]
  },
  {
   "cell_type": "code",
   "execution_count": 465,
   "metadata": {},
   "outputs": [
    {
     "data": {
      "text/html": [
       "<div>\n",
       "<style scoped>\n",
       "    .dataframe tbody tr th:only-of-type {\n",
       "        vertical-align: middle;\n",
       "    }\n",
       "\n",
       "    .dataframe tbody tr th {\n",
       "        vertical-align: top;\n",
       "    }\n",
       "\n",
       "    .dataframe thead th {\n",
       "        text-align: right;\n",
       "    }\n",
       "</style>\n",
       "<table border=\"1\" class=\"dataframe\">\n",
       "  <thead>\n",
       "    <tr style=\"text-align: right;\">\n",
       "      <th></th>\n",
       "      <th>NAME</th>\n",
       "      <th>host_identity_verified</th>\n",
       "      <th>host name</th>\n",
       "      <th>neighborhood_group</th>\n",
       "      <th>lat</th>\n",
       "      <th>long</th>\n",
       "      <th>country</th>\n",
       "      <th>country code</th>\n",
       "      <th>instant_bookable</th>\n",
       "      <th>cancellation_policy</th>\n",
       "      <th>room type</th>\n",
       "      <th>Construction year</th>\n",
       "      <th>price</th>\n",
       "      <th>minimum nights</th>\n",
       "      <th>number of reviews</th>\n",
       "      <th>last review</th>\n",
       "      <th>rating</th>\n",
       "      <th>total host listing</th>\n",
       "      <th>availability 365</th>\n",
       "    </tr>\n",
       "  </thead>\n",
       "  <tbody>\n",
       "    <tr>\n",
       "      <th>0</th>\n",
       "      <td>Clean &amp; quiet apt home by the park</td>\n",
       "      <td>unconfirmed</td>\n",
       "      <td>Madaline</td>\n",
       "      <td>Brooklyn</td>\n",
       "      <td>40.64749</td>\n",
       "      <td>-73.97237</td>\n",
       "      <td>United States</td>\n",
       "      <td>US</td>\n",
       "      <td>False</td>\n",
       "      <td>strict</td>\n",
       "      <td>Private room</td>\n",
       "      <td>2020.0</td>\n",
       "      <td>966.0</td>\n",
       "      <td>10.0</td>\n",
       "      <td>9.0</td>\n",
       "      <td>2021-10-19</td>\n",
       "      <td>4.0</td>\n",
       "      <td>6.0</td>\n",
       "      <td>286.0</td>\n",
       "    </tr>\n",
       "    <tr>\n",
       "      <th>1</th>\n",
       "      <td>Skylit Midtown Castle</td>\n",
       "      <td>verified</td>\n",
       "      <td>Jenna</td>\n",
       "      <td>Manhattan</td>\n",
       "      <td>40.75362</td>\n",
       "      <td>-73.98377</td>\n",
       "      <td>United States</td>\n",
       "      <td>US</td>\n",
       "      <td>False</td>\n",
       "      <td>moderate</td>\n",
       "      <td>Entire home/apt</td>\n",
       "      <td>2007.0</td>\n",
       "      <td>142.0</td>\n",
       "      <td>30.0</td>\n",
       "      <td>45.0</td>\n",
       "      <td>2022-05-21</td>\n",
       "      <td>4.0</td>\n",
       "      <td>2.0</td>\n",
       "      <td>228.0</td>\n",
       "    </tr>\n",
       "    <tr>\n",
       "      <th>4</th>\n",
       "      <td>Entire Apt: Spacious Studio/Loft by central park</td>\n",
       "      <td>verified</td>\n",
       "      <td>Lyndon</td>\n",
       "      <td>Manhattan</td>\n",
       "      <td>40.79851</td>\n",
       "      <td>-73.94399</td>\n",
       "      <td>United States</td>\n",
       "      <td>US</td>\n",
       "      <td>False</td>\n",
       "      <td>moderate</td>\n",
       "      <td>Entire home/apt</td>\n",
       "      <td>2009.0</td>\n",
       "      <td>204.0</td>\n",
       "      <td>10.0</td>\n",
       "      <td>9.0</td>\n",
       "      <td>2018-11-19</td>\n",
       "      <td>3.0</td>\n",
       "      <td>1.0</td>\n",
       "      <td>289.0</td>\n",
       "    </tr>\n",
       "    <tr>\n",
       "      <th>5</th>\n",
       "      <td>Large Cozy 1 BR Apartment In Midtown East</td>\n",
       "      <td>verified</td>\n",
       "      <td>Michelle</td>\n",
       "      <td>Manhattan</td>\n",
       "      <td>40.74767</td>\n",
       "      <td>-73.97500</td>\n",
       "      <td>United States</td>\n",
       "      <td>US</td>\n",
       "      <td>True</td>\n",
       "      <td>flexible</td>\n",
       "      <td>Entire home/apt</td>\n",
       "      <td>2013.0</td>\n",
       "      <td>577.0</td>\n",
       "      <td>3.0</td>\n",
       "      <td>74.0</td>\n",
       "      <td>2019-06-22</td>\n",
       "      <td>3.0</td>\n",
       "      <td>1.0</td>\n",
       "      <td>374.0</td>\n",
       "    </tr>\n",
       "    <tr>\n",
       "      <th>7</th>\n",
       "      <td>BlissArtsSpace!</td>\n",
       "      <td>unconfirmed</td>\n",
       "      <td>Emma</td>\n",
       "      <td>Brooklyn</td>\n",
       "      <td>40.68688</td>\n",
       "      <td>-73.95596</td>\n",
       "      <td>United States</td>\n",
       "      <td>US</td>\n",
       "      <td>False</td>\n",
       "      <td>moderate</td>\n",
       "      <td>Private room</td>\n",
       "      <td>2009.0</td>\n",
       "      <td>1060.0</td>\n",
       "      <td>45.0</td>\n",
       "      <td>49.0</td>\n",
       "      <td>2017-10-05</td>\n",
       "      <td>5.0</td>\n",
       "      <td>1.0</td>\n",
       "      <td>219.0</td>\n",
       "    </tr>\n",
       "  </tbody>\n",
       "</table>\n",
       "</div>"
      ],
      "text/plain": [
       "                                               NAME host_identity_verified  \\\n",
       "0                Clean & quiet apt home by the park            unconfirmed   \n",
       "1                             Skylit Midtown Castle               verified   \n",
       "4  Entire Apt: Spacious Studio/Loft by central park               verified   \n",
       "5         Large Cozy 1 BR Apartment In Midtown East               verified   \n",
       "7                                   BlissArtsSpace!            unconfirmed   \n",
       "\n",
       "  host name neighborhood_group       lat      long        country  \\\n",
       "0  Madaline           Brooklyn  40.64749 -73.97237  United States   \n",
       "1     Jenna          Manhattan  40.75362 -73.98377  United States   \n",
       "4    Lyndon          Manhattan  40.79851 -73.94399  United States   \n",
       "5  Michelle          Manhattan  40.74767 -73.97500  United States   \n",
       "7      Emma           Brooklyn  40.68688 -73.95596  United States   \n",
       "\n",
       "  country code instant_bookable cancellation_policy        room type  \\\n",
       "0           US            False              strict     Private room   \n",
       "1           US            False            moderate  Entire home/apt   \n",
       "4           US            False            moderate  Entire home/apt   \n",
       "5           US             True            flexible  Entire home/apt   \n",
       "7           US            False            moderate     Private room   \n",
       "\n",
       "   Construction year   price  minimum nights  number of reviews last review  \\\n",
       "0             2020.0   966.0            10.0                9.0  2021-10-19   \n",
       "1             2007.0   142.0            30.0               45.0  2022-05-21   \n",
       "4             2009.0   204.0            10.0                9.0  2018-11-19   \n",
       "5             2013.0   577.0             3.0               74.0  2019-06-22   \n",
       "7             2009.0  1060.0            45.0               49.0  2017-10-05   \n",
       "\n",
       "   rating  total host listing  availability 365  \n",
       "0     4.0                 6.0             286.0  \n",
       "1     4.0                 2.0             228.0  \n",
       "4     3.0                 1.0             289.0  \n",
       "5     3.0                 1.0             374.0  \n",
       "7     5.0                 1.0             219.0  "
      ]
     },
     "execution_count": 465,
     "metadata": {},
     "output_type": "execute_result"
    }
   ],
   "source": [
    "cleanedAirBnb.head()"
   ]
  },
  {
   "cell_type": "markdown",
   "metadata": {},
   "source": [
    "## **To Answer the questions/objectives**"
   ]
  },
  {
   "cell_type": "markdown",
   "metadata": {},
   "source": [
    "1. What is the total number of listing?\n",
    "2. Who is the host with the most listing?\n",
    "3. What is the booking rate?\n",
    "4. What is the most listed property type?"
   ]
  },
  {
   "cell_type": "markdown",
   "metadata": {},
   "source": [
    "**Q1. What is the total number of listing?**"
   ]
  },
  {
   "cell_type": "code",
   "execution_count": 466,
   "metadata": {},
   "outputs": [
    {
     "name": "stdout",
     "output_type": "stream",
     "text": [
      "The total number of listing the state is 766645.0.\n"
     ]
    }
   ],
   "source": [
    "total_listing = cleanedAirBnb['total host listing'].sum()\n",
    "print(f\"The total number of listing the state is {total_listing}.\")"
   ]
  },
  {
   "cell_type": "markdown",
   "metadata": {},
   "source": [
    "**Q2. Who is the host with the most listing and who are the top 10 host with the most listing?**"
   ]
  },
  {
   "cell_type": "code",
   "execution_count": 467,
   "metadata": {},
   "outputs": [],
   "source": [
    "host_by_listing = cleanedAirBnb.groupby(['host name'])[['total host listing']].sum()"
   ]
  },
  {
   "cell_type": "code",
   "execution_count": 468,
   "metadata": {},
   "outputs": [
    {
     "data": {
      "text/html": [
       "<div>\n",
       "<style scoped>\n",
       "    .dataframe tbody tr th:only-of-type {\n",
       "        vertical-align: middle;\n",
       "    }\n",
       "\n",
       "    .dataframe tbody tr th {\n",
       "        vertical-align: top;\n",
       "    }\n",
       "\n",
       "    .dataframe thead th {\n",
       "        text-align: right;\n",
       "    }\n",
       "</style>\n",
       "<table border=\"1\" class=\"dataframe\">\n",
       "  <thead>\n",
       "    <tr style=\"text-align: right;\">\n",
       "      <th></th>\n",
       "      <th>total host listing</th>\n",
       "    </tr>\n",
       "    <tr>\n",
       "      <th>host name</th>\n",
       "      <th></th>\n",
       "    </tr>\n",
       "  </thead>\n",
       "  <tbody>\n",
       "    <tr>\n",
       "      <th>Sonder (NYC)</th>\n",
       "      <td>146910.0</td>\n",
       "    </tr>\n",
       "    <tr>\n",
       "      <th>Blueground</th>\n",
       "      <td>75920.0</td>\n",
       "    </tr>\n",
       "    <tr>\n",
       "      <th>Karen</th>\n",
       "      <td>42442.0</td>\n",
       "    </tr>\n",
       "    <tr>\n",
       "      <th>Jeniffer</th>\n",
       "      <td>31447.0</td>\n",
       "    </tr>\n",
       "    <tr>\n",
       "      <th>Kara</th>\n",
       "      <td>25961.0</td>\n",
       "    </tr>\n",
       "    <tr>\n",
       "      <th>Sonder</th>\n",
       "      <td>18528.0</td>\n",
       "    </tr>\n",
       "    <tr>\n",
       "      <th>Kaz</th>\n",
       "      <td>17552.0</td>\n",
       "    </tr>\n",
       "    <tr>\n",
       "      <th>Ken</th>\n",
       "      <td>16796.0</td>\n",
       "    </tr>\n",
       "    <tr>\n",
       "      <th>Corporate Housing</th>\n",
       "      <td>15925.0</td>\n",
       "    </tr>\n",
       "    <tr>\n",
       "      <th>Jeremy &amp; Laura</th>\n",
       "      <td>14496.0</td>\n",
       "    </tr>\n",
       "  </tbody>\n",
       "</table>\n",
       "</div>"
      ],
      "text/plain": [
       "                   total host listing\n",
       "host name                            \n",
       "Sonder (NYC)                 146910.0\n",
       "Blueground                    75920.0\n",
       "Karen                         42442.0\n",
       "Jeniffer                      31447.0\n",
       "Kara                          25961.0\n",
       "Sonder                        18528.0\n",
       "Kaz                           17552.0\n",
       "Ken                           16796.0\n",
       "Corporate Housing             15925.0\n",
       "Jeremy & Laura                14496.0"
      ]
     },
     "execution_count": 468,
     "metadata": {},
     "output_type": "execute_result"
    }
   ],
   "source": [
    "host_by_listing.sort_values(by=['total host listing'], ascending=False, inplace=True)\n",
    "top_n = host_by_listing.head(10)\n",
    "top_n"
   ]
  },
  {
   "cell_type": "code",
   "execution_count": 469,
   "metadata": {},
   "outputs": [
    {
     "data": {
      "image/png": "[encoded data removed]",
      "text/plain": [
       "<Figure size 640x480 with 1 Axes>"
      ]
     },
     "metadata": {},
     "output_type": "display_data"
    }
   ],
   "source": [
    "sns.barplot(x=top_n.index, y=top_n['total host listing'])\n",
    "plt.xticks(rotation=90)\n",
    "plt.show()"
   ]
  },
  {
   "cell_type": "code",
   "execution_count": 470,
   "metadata": {},
   "outputs": [
    {
     "name": "stdout",
     "output_type": "stream",
     "text": [
      "The host with the highest listing is total host listing    Sonder (NYC)\n",
      "dtype: object with 146910.0\n"
     ]
    }
   ],
   "source": [
    "print(f\"The host with the highest listing is {top_n.idxmax()} with {top_n.values.max()}\")"
   ]
  },
  {
   "cell_type": "markdown",
   "metadata": {},
   "source": [
    "**Insight** From the about graph we can clearly see that Sonder (NYC) is the host with the highest listing"
   ]
  },
  {
   "cell_type": "markdown",
   "metadata": {},
   "source": [
    "**Q3. What is the booking rate?**"
   ]
  },
  {
   "cell_type": "code",
   "execution_count": 471,
   "metadata": {},
   "outputs": [
    {
     "data": {
      "text/html": [
       "<div>\n",
       "<style scoped>\n",
       "    .dataframe tbody tr th:only-of-type {\n",
       "        vertical-align: middle;\n",
       "    }\n",
       "\n",
       "    .dataframe tbody tr th {\n",
       "        vertical-align: top;\n",
       "    }\n",
       "\n",
       "    .dataframe thead th {\n",
       "        text-align: right;\n",
       "    }\n",
       "</style>\n",
       "<table border=\"1\" class=\"dataframe\">\n",
       "  <thead>\n",
       "    <tr style=\"text-align: right;\">\n",
       "      <th></th>\n",
       "      <th>NAME</th>\n",
       "      <th>host_identity_verified</th>\n",
       "      <th>host name</th>\n",
       "      <th>neighborhood_group</th>\n",
       "      <th>lat</th>\n",
       "      <th>long</th>\n",
       "      <th>country</th>\n",
       "      <th>country code</th>\n",
       "      <th>instant_bookable</th>\n",
       "      <th>cancellation_policy</th>\n",
       "      <th>room type</th>\n",
       "      <th>Construction year</th>\n",
       "      <th>price</th>\n",
       "      <th>minimum nights</th>\n",
       "      <th>number of reviews</th>\n",
       "      <th>last review</th>\n",
       "      <th>rating</th>\n",
       "      <th>total host listing</th>\n",
       "      <th>availability 365</th>\n",
       "    </tr>\n",
       "  </thead>\n",
       "  <tbody>\n",
       "    <tr>\n",
       "      <th>0</th>\n",
       "      <td>Clean &amp; quiet apt home by the park</td>\n",
       "      <td>unconfirmed</td>\n",
       "      <td>Madaline</td>\n",
       "      <td>Brooklyn</td>\n",
       "      <td>40.64749</td>\n",
       "      <td>-73.97237</td>\n",
       "      <td>United States</td>\n",
       "      <td>US</td>\n",
       "      <td>False</td>\n",
       "      <td>strict</td>\n",
       "      <td>Private room</td>\n",
       "      <td>2020.0</td>\n",
       "      <td>966.0</td>\n",
       "      <td>10.0</td>\n",
       "      <td>9.0</td>\n",
       "      <td>2021-10-19</td>\n",
       "      <td>4.0</td>\n",
       "      <td>6.0</td>\n",
       "      <td>286.0</td>\n",
       "    </tr>\n",
       "    <tr>\n",
       "      <th>1</th>\n",
       "      <td>Skylit Midtown Castle</td>\n",
       "      <td>verified</td>\n",
       "      <td>Jenna</td>\n",
       "      <td>Manhattan</td>\n",
       "      <td>40.75362</td>\n",
       "      <td>-73.98377</td>\n",
       "      <td>United States</td>\n",
       "      <td>US</td>\n",
       "      <td>False</td>\n",
       "      <td>moderate</td>\n",
       "      <td>Entire home/apt</td>\n",
       "      <td>2007.0</td>\n",
       "      <td>142.0</td>\n",
       "      <td>30.0</td>\n",
       "      <td>45.0</td>\n",
       "      <td>2022-05-21</td>\n",
       "      <td>4.0</td>\n",
       "      <td>2.0</td>\n",
       "      <td>228.0</td>\n",
       "    </tr>\n",
       "    <tr>\n",
       "      <th>4</th>\n",
       "      <td>Entire Apt: Spacious Studio/Loft by central park</td>\n",
       "      <td>verified</td>\n",
       "      <td>Lyndon</td>\n",
       "      <td>Manhattan</td>\n",
       "      <td>40.79851</td>\n",
       "      <td>-73.94399</td>\n",
       "      <td>United States</td>\n",
       "      <td>US</td>\n",
       "      <td>False</td>\n",
       "      <td>moderate</td>\n",
       "      <td>Entire home/apt</td>\n",
       "      <td>2009.0</td>\n",
       "      <td>204.0</td>\n",
       "      <td>10.0</td>\n",
       "      <td>9.0</td>\n",
       "      <td>2018-11-19</td>\n",
       "      <td>3.0</td>\n",
       "      <td>1.0</td>\n",
       "      <td>289.0</td>\n",
       "    </tr>\n",
       "    <tr>\n",
       "      <th>5</th>\n",
       "      <td>Large Cozy 1 BR Apartment In Midtown East</td>\n",
       "      <td>verified</td>\n",
       "      <td>Michelle</td>\n",
       "      <td>Manhattan</td>\n",
       "      <td>40.74767</td>\n",
       "      <td>-73.97500</td>\n",
       "      <td>United States</td>\n",
       "      <td>US</td>\n",
       "      <td>True</td>\n",
       "      <td>flexible</td>\n",
       "      <td>Entire home/apt</td>\n",
       "      <td>2013.0</td>\n",
       "      <td>577.0</td>\n",
       "      <td>3.0</td>\n",
       "      <td>74.0</td>\n",
       "      <td>2019-06-22</td>\n",
       "      <td>3.0</td>\n",
       "      <td>1.0</td>\n",
       "      <td>374.0</td>\n",
       "    </tr>\n",
       "    <tr>\n",
       "      <th>7</th>\n",
       "      <td>BlissArtsSpace!</td>\n",
       "      <td>unconfirmed</td>\n",
       "      <td>Emma</td>\n",
       "      <td>Brooklyn</td>\n",
       "      <td>40.68688</td>\n",
       "      <td>-73.95596</td>\n",
       "      <td>United States</td>\n",
       "      <td>US</td>\n",
       "      <td>False</td>\n",
       "      <td>moderate</td>\n",
       "      <td>Private room</td>\n",
       "      <td>2009.0</td>\n",
       "      <td>1060.0</td>\n",
       "      <td>45.0</td>\n",
       "      <td>49.0</td>\n",
       "      <td>2017-10-05</td>\n",
       "      <td>5.0</td>\n",
       "      <td>1.0</td>\n",
       "      <td>219.0</td>\n",
       "    </tr>\n",
       "  </tbody>\n",
       "</table>\n",
       "</div>"
      ],
      "text/plain": [
       "                                               NAME host_identity_verified  \\\n",
       "0                Clean & quiet apt home by the park            unconfirmed   \n",
       "1                             Skylit Midtown Castle               verified   \n",
       "4  Entire Apt: Spacious Studio/Loft by central park               verified   \n",
       "5         Large Cozy 1 BR Apartment In Midtown East               verified   \n",
       "7                                   BlissArtsSpace!            unconfirmed   \n",
       "\n",
       "  host name neighborhood_group       lat      long        country  \\\n",
       "0  Madaline           Brooklyn  40.64749 -73.97237  United States   \n",
       "1     Jenna          Manhattan  40.75362 -73.98377  United States   \n",
       "4    Lyndon          Manhattan  40.79851 -73.94399  United States   \n",
       "5  Michelle          Manhattan  40.74767 -73.97500  United States   \n",
       "7      Emma           Brooklyn  40.68688 -73.95596  United States   \n",
       "\n",
       "  country code instant_bookable cancellation_policy        room type  \\\n",
       "0           US            False              strict     Private room   \n",
       "1           US            False            moderate  Entire home/apt   \n",
       "4           US            False            moderate  Entire home/apt   \n",
       "5           US             True            flexible  Entire home/apt   \n",
       "7           US            False            moderate     Private room   \n",
       "\n",
       "   Construction year   price  minimum nights  number of reviews last review  \\\n",
       "0             2020.0   966.0            10.0                9.0  2021-10-19   \n",
       "1             2007.0   142.0            30.0               45.0  2022-05-21   \n",
       "4             2009.0   204.0            10.0                9.0  2018-11-19   \n",
       "5             2013.0   577.0             3.0               74.0  2019-06-22   \n",
       "7             2009.0  1060.0            45.0               49.0  2017-10-05   \n",
       "\n",
       "   rating  total host listing  availability 365  \n",
       "0     4.0                 6.0             286.0  \n",
       "1     4.0                 2.0             228.0  \n",
       "4     3.0                 1.0             289.0  \n",
       "5     3.0                 1.0             374.0  \n",
       "7     5.0                 1.0             219.0  "
      ]
     },
     "execution_count": 471,
     "metadata": {},
     "output_type": "execute_result"
    }
   ],
   "source": [
    "cleanedAirBnb.head()"
   ]
  },
  {
   "cell_type": "markdown",
   "metadata": {},
   "source": [
    "**Insight** Owing to the fact that we don't have a number of booking column, we will be using the number of review in place of it. "
   ]
  },
  {
   "cell_type": "code",
   "execution_count": 472,
   "metadata": {},
   "outputs": [
    {
     "data": {
      "text/html": [
       "<div>\n",
       "<style scoped>\n",
       "    .dataframe tbody tr th:only-of-type {\n",
       "        vertical-align: middle;\n",
       "    }\n",
       "\n",
       "    .dataframe tbody tr th {\n",
       "        vertical-align: top;\n",
       "    }\n",
       "\n",
       "    .dataframe thead th {\n",
       "        text-align: right;\n",
       "    }\n",
       "</style>\n",
       "<table border=\"1\" class=\"dataframe\">\n",
       "  <thead>\n",
       "    <tr style=\"text-align: right;\">\n",
       "      <th></th>\n",
       "      <th>NAME</th>\n",
       "      <th>host_identity_verified</th>\n",
       "      <th>host name</th>\n",
       "      <th>neighborhood_group</th>\n",
       "      <th>lat</th>\n",
       "      <th>long</th>\n",
       "      <th>country</th>\n",
       "      <th>country code</th>\n",
       "      <th>instant_bookable</th>\n",
       "      <th>cancellation_policy</th>\n",
       "      <th>room type</th>\n",
       "      <th>Construction year</th>\n",
       "      <th>price</th>\n",
       "      <th>minimum nights</th>\n",
       "      <th>number of reviews</th>\n",
       "      <th>last review</th>\n",
       "      <th>rating</th>\n",
       "      <th>total host listing</th>\n",
       "      <th>availability 365</th>\n",
       "      <th>booking rate</th>\n",
       "    </tr>\n",
       "  </thead>\n",
       "  <tbody>\n",
       "    <tr>\n",
       "      <th>0</th>\n",
       "      <td>Clean &amp; quiet apt home by the park</td>\n",
       "      <td>unconfirmed</td>\n",
       "      <td>Madaline</td>\n",
       "      <td>Brooklyn</td>\n",
       "      <td>40.64749</td>\n",
       "      <td>-73.97237</td>\n",
       "      <td>United States</td>\n",
       "      <td>US</td>\n",
       "      <td>False</td>\n",
       "      <td>strict</td>\n",
       "      <td>Private room</td>\n",
       "      <td>2020.0</td>\n",
       "      <td>966.0</td>\n",
       "      <td>10.0</td>\n",
       "      <td>9.0</td>\n",
       "      <td>2021-10-19</td>\n",
       "      <td>4.0</td>\n",
       "      <td>6.0</td>\n",
       "      <td>286.0</td>\n",
       "      <td>3.146853</td>\n",
       "    </tr>\n",
       "    <tr>\n",
       "      <th>1</th>\n",
       "      <td>Skylit Midtown Castle</td>\n",
       "      <td>verified</td>\n",
       "      <td>Jenna</td>\n",
       "      <td>Manhattan</td>\n",
       "      <td>40.75362</td>\n",
       "      <td>-73.98377</td>\n",
       "      <td>United States</td>\n",
       "      <td>US</td>\n",
       "      <td>False</td>\n",
       "      <td>moderate</td>\n",
       "      <td>Entire home/apt</td>\n",
       "      <td>2007.0</td>\n",
       "      <td>142.0</td>\n",
       "      <td>30.0</td>\n",
       "      <td>45.0</td>\n",
       "      <td>2022-05-21</td>\n",
       "      <td>4.0</td>\n",
       "      <td>2.0</td>\n",
       "      <td>228.0</td>\n",
       "      <td>19.736842</td>\n",
       "    </tr>\n",
       "    <tr>\n",
       "      <th>4</th>\n",
       "      <td>Entire Apt: Spacious Studio/Loft by central park</td>\n",
       "      <td>verified</td>\n",
       "      <td>Lyndon</td>\n",
       "      <td>Manhattan</td>\n",
       "      <td>40.79851</td>\n",
       "      <td>-73.94399</td>\n",
       "      <td>United States</td>\n",
       "      <td>US</td>\n",
       "      <td>False</td>\n",
       "      <td>moderate</td>\n",
       "      <td>Entire home/apt</td>\n",
       "      <td>2009.0</td>\n",
       "      <td>204.0</td>\n",
       "      <td>10.0</td>\n",
       "      <td>9.0</td>\n",
       "      <td>2018-11-19</td>\n",
       "      <td>3.0</td>\n",
       "      <td>1.0</td>\n",
       "      <td>289.0</td>\n",
       "      <td>3.114187</td>\n",
       "    </tr>\n",
       "    <tr>\n",
       "      <th>5</th>\n",
       "      <td>Large Cozy 1 BR Apartment In Midtown East</td>\n",
       "      <td>verified</td>\n",
       "      <td>Michelle</td>\n",
       "      <td>Manhattan</td>\n",
       "      <td>40.74767</td>\n",
       "      <td>-73.97500</td>\n",
       "      <td>United States</td>\n",
       "      <td>US</td>\n",
       "      <td>True</td>\n",
       "      <td>flexible</td>\n",
       "      <td>Entire home/apt</td>\n",
       "      <td>2013.0</td>\n",
       "      <td>577.0</td>\n",
       "      <td>3.0</td>\n",
       "      <td>74.0</td>\n",
       "      <td>2019-06-22</td>\n",
       "      <td>3.0</td>\n",
       "      <td>1.0</td>\n",
       "      <td>374.0</td>\n",
       "      <td>19.786096</td>\n",
       "    </tr>\n",
       "    <tr>\n",
       "      <th>7</th>\n",
       "      <td>BlissArtsSpace!</td>\n",
       "      <td>unconfirmed</td>\n",
       "      <td>Emma</td>\n",
       "      <td>Brooklyn</td>\n",
       "      <td>40.68688</td>\n",
       "      <td>-73.95596</td>\n",
       "      <td>United States</td>\n",
       "      <td>US</td>\n",
       "      <td>False</td>\n",
       "      <td>moderate</td>\n",
       "      <td>Private room</td>\n",
       "      <td>2009.0</td>\n",
       "      <td>1060.0</td>\n",
       "      <td>45.0</td>\n",
       "      <td>49.0</td>\n",
       "      <td>2017-10-05</td>\n",
       "      <td>5.0</td>\n",
       "      <td>1.0</td>\n",
       "      <td>219.0</td>\n",
       "      <td>22.374429</td>\n",
       "    </tr>\n",
       "  </tbody>\n",
       "</table>\n",
       "</div>"
      ],
      "text/plain": [
       "                                               NAME host_identity_verified  \\\n",
       "0                Clean & quiet apt home by the park            unconfirmed   \n",
       "1                             Skylit Midtown Castle               verified   \n",
       "4  Entire Apt: Spacious Studio/Loft by central park               verified   \n",
       "5         Large Cozy 1 BR Apartment In Midtown East               verified   \n",
       "7                                   BlissArtsSpace!            unconfirmed   \n",
       "\n",
       "  host name neighborhood_group       lat      long        country  \\\n",
       "0  Madaline           Brooklyn  40.64749 -73.97237  United States   \n",
       "1     Jenna          Manhattan  40.75362 -73.98377  United States   \n",
       "4    Lyndon          Manhattan  40.79851 -73.94399  United States   \n",
       "5  Michelle          Manhattan  40.74767 -73.97500  United States   \n",
       "7      Emma           Brooklyn  40.68688 -73.95596  United States   \n",
       "\n",
       "  country code instant_bookable cancellation_policy        room type  \\\n",
       "0           US            False              strict     Private room   \n",
       "1           US            False            moderate  Entire home/apt   \n",
       "4           US            False            moderate  Entire home/apt   \n",
       "5           US             True            flexible  Entire home/apt   \n",
       "7           US            False            moderate     Private room   \n",
       "\n",
       "   Construction year   price  minimum nights  number of reviews last review  \\\n",
       "0             2020.0   966.0            10.0                9.0  2021-10-19   \n",
       "1             2007.0   142.0            30.0               45.0  2022-05-21   \n",
       "4             2009.0   204.0            10.0                9.0  2018-11-19   \n",
       "5             2013.0   577.0             3.0               74.0  2019-06-22   \n",
       "7             2009.0  1060.0            45.0               49.0  2017-10-05   \n",
       "\n",
       "   rating  total host listing  availability 365  booking rate  \n",
       "0     4.0                 6.0             286.0      3.146853  \n",
       "1     4.0                 2.0             228.0     19.736842  \n",
       "4     3.0                 1.0             289.0      3.114187  \n",
       "5     3.0                 1.0             374.0     19.786096  \n",
       "7     5.0                 1.0             219.0     22.374429  "
      ]
     },
     "execution_count": 472,
     "metadata": {},
     "output_type": "execute_result"
    }
   ],
   "source": [
    "cleanedAirBnb['booking rate'] = (cleanedAirBnb['number of reviews'] / cleanedAirBnb['availability 365']) * 100\n",
    "cleanedAirBnb.head()"
   ]
  },
  {
   "cell_type": "markdown",
   "metadata": {},
   "source": [
    "*Since we are dividing we may run into areas where the availability is zero, to handle this we set the infinite value to  null value.*"
   ]
  },
  {
   "cell_type": "code",
   "execution_count": 473,
   "metadata": {},
   "outputs": [],
   "source": [
    "# cleanedAirBnb.loc[~np.isfinite(cleanedAirBnb['booking rate'].values)] = 0\n",
    "# cleanedAirBnb['booking rate']"
   ]
  },
  {
   "cell_type": "code",
   "execution_count": 474,
   "metadata": {},
   "outputs": [
    {
     "data": {
      "text/plain": [
       "count    73789.000000\n",
       "mean        93.297477\n",
       "std        607.783820\n",
       "min          0.000000\n",
       "25%          1.136364\n",
       "50%          8.115183\n",
       "75%         39.473684\n",
       "max      39500.000000\n",
       "Name: booking rate, dtype: float64"
      ]
     },
     "execution_count": 474,
     "metadata": {},
     "output_type": "execute_result"
    }
   ],
   "source": [
    "cleanedAirBnb.loc[np.isinf(cleanedAirBnb['booking rate'].values)] = np.nan\n",
    "cleanedAirBnb['booking rate'].describe()"
   ]
  },
  {
   "cell_type": "markdown",
   "metadata": {},
   "source": [
    "**Insight** From the data set we can say the the average booking rate is 93%"
   ]
  },
  {
   "cell_type": "markdown",
   "metadata": {},
   "source": [
    "**Q4. What is the most listed property type?**"
   ]
  },
  {
   "cell_type": "code",
   "execution_count": 475,
   "metadata": {},
   "outputs": [
    {
     "data": {
      "text/html": [
       "<div>\n",
       "<style scoped>\n",
       "    .dataframe tbody tr th:only-of-type {\n",
       "        vertical-align: middle;\n",
       "    }\n",
       "\n",
       "    .dataframe tbody tr th {\n",
       "        vertical-align: top;\n",
       "    }\n",
       "\n",
       "    .dataframe thead th {\n",
       "        text-align: right;\n",
       "    }\n",
       "</style>\n",
       "<table border=\"1\" class=\"dataframe\">\n",
       "  <thead>\n",
       "    <tr style=\"text-align: right;\">\n",
       "      <th></th>\n",
       "      <th>total host listing</th>\n",
       "    </tr>\n",
       "    <tr>\n",
       "      <th>room type</th>\n",
       "      <th></th>\n",
       "    </tr>\n",
       "  </thead>\n",
       "  <tbody>\n",
       "    <tr>\n",
       "      <th>Entire home/apt</th>\n",
       "      <td>527302.0</td>\n",
       "    </tr>\n",
       "    <tr>\n",
       "      <th>Hotel room</th>\n",
       "      <td>1278.0</td>\n",
       "    </tr>\n",
       "    <tr>\n",
       "      <th>Private room</th>\n",
       "      <td>192099.0</td>\n",
       "    </tr>\n",
       "    <tr>\n",
       "      <th>Shared room</th>\n",
       "      <td>8954.0</td>\n",
       "    </tr>\n",
       "  </tbody>\n",
       "</table>\n",
       "</div>"
      ],
      "text/plain": [
       "                 total host listing\n",
       "room type                          \n",
       "Entire home/apt            527302.0\n",
       "Hotel room                   1278.0\n",
       "Private room               192099.0\n",
       "Shared room                  8954.0"
      ]
     },
     "execution_count": 475,
     "metadata": {},
     "output_type": "execute_result"
    }
   ],
   "source": [
    "most_listed_property_type = cleanedAirBnb.groupby(['room type'])[['total host listing']].sum()\n",
    "most_listed_property_type"
   ]
  },
  {
   "cell_type": "code",
   "execution_count": 476,
   "metadata": {},
   "outputs": [
    {
     "data": {
      "image/png": "[encoded data removed]",
      "text/plain": [
       "<Figure size 640x480 with 1 Axes>"
      ]
     },
     "metadata": {},
     "output_type": "display_data"
    }
   ],
   "source": [
    "sns.barplot(x=most_listed_property_type.index, y=most_listed_property_type['total host listing'])\n",
    "plt.xticks(rotation=90)\n",
    "plt.show()"
   ]
  },
  {
   "cell_type": "markdown",
   "metadata": {},
   "source": [
    "**Insight** Since our data set has no property type for this analysis we will be using room type. The most listed room type is *Entire home or apartment*."
   ]
  },
  {
   "cell_type": "code",
   "execution_count": null,
   "metadata": {},
   "outputs": [],
   "source": []
  }
 ],
 "metadata": {
  "kernelspec": {
   "display_name": "Python 3 (ipykernel)",
   "language": "python",
   "name": "python3"
  },
  "language_info": {
   "codemirror_mode": {
    "name": "ipython",
    "version": 3
   },
   "file_extension": ".py",
   "mimetype": "text/x-python",
   "name": "python",
   "nbconvert_exporter": "python",
   "pygments_lexer": "ipython3",
   "version": "3.11.9"
  }
 },
 "nbformat": 4,
 "nbformat_minor": 4
}
